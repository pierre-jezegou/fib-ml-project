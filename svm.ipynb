{
 "cells": [
  {
   "cell_type": "markdown",
   "metadata": {},
   "source": [
    "# Implement SVR model"
   ]
  },
  {
   "cell_type": "code",
   "execution_count": 7,
   "metadata": {},
   "outputs": [],
   "source": [
    "import warnings\n",
    "warnings.filterwarnings('ignore')\n",
    "\n",
    "from time import time\n",
    "from datetime import timedelta\n",
    "\n",
    "import pandas as pd\n",
    "import seaborn as sns\n",
    "import numpy as np\n",
    "\n",
    "\n",
    "from scipy.stats import chi2_contingency \n",
    "from scipy.stats import pearsonr \n",
    "\n",
    "from sklearn.metrics import r2_score, mean_squared_error, median_absolute_error, mean_absolute_error\n",
    "from sklearn.preprocessing import minmax_scale\n",
    "\n",
    "from sklearn.svm import LinearSVR, SVR, SVC\n",
    "from sklearn.neighbors import KNeighborsRegressor\n",
    "\n",
    "from sklearn.datasets import fetch_lfw_people\n",
    "from sklearn.model_selection import train_test_split\n",
    "\n",
    "from sklearn.decomposition import PCA\n",
    "from sklearn.preprocessing import StandardScaler\n",
    "from sklearn.neural_network import MLPClassifier\n",
    "from sklearn.model_selection import cross_val_score\n",
    "from sklearn.model_selection import GridSearchCV\n",
    "from sklearn.metrics import classification_report\n",
    "\n",
    "from dython.nominal import associations\n",
    "from dython.nominal import correlation_ratio\n",
    "from dython.nominal import cramers_v\n",
    "\n",
    "from matplotlib import pyplot as plt\n",
    "\n",
    "from get_metrics import write_metrics_in_csv"
   ]
  },
  {
   "cell_type": "code",
   "execution_count": 24,
   "metadata": {},
   "outputs": [],
   "source": [
    "# Open dataset\n",
    "filename: str = 'dataset.csv'\n",
    "dataset = pd.read_pickle('dataRead_processed.pkl.bz2', compression='bz2')\n",
    "\n",
    "# Split dataset\n",
    "X = dataset.drop(columns=['total_passengers_2022'])\n",
    "y = dataset['total_passengers_2022']\n",
    "X_train, X_test, y_train, y_test = train_test_split(X, y, test_size=0.33, random_state=42)"
   ]
  },
  {
   "cell_type": "code",
   "execution_count": 32,
   "metadata": {},
   "outputs": [
    {
     "name": "stdout",
     "output_type": "stream",
     "text": [
      "Original shape:(1491, 31)\n",
      "total_passengers_and_non_passengers_2022            float64\n",
      "total_passengers_2015                               float64\n",
      "total_passengers_and_non_passengers_2015            float64\n",
      "wifi_service                                          int64\n",
      "city_category_in_attraction_area_2020                 int64\n",
      "department                                            int64\n",
      "region                                                int64\n",
      "sum_municipal_population_2021                         int64\n",
      "non_scholarized_15_years_old_or_more_2020             int64\n",
      "main_residences_2020                                  int64\n",
      "housing_2020                                          int64\n",
      "jobs_at_workplace_2020                                int64\n",
      "hotels_2024_sum                                       int64\n",
      "camping_sites_2024_sum                                int64\n",
      "other_tourist_accommodations_2024_sum                 int64\n",
      "latitude                                            float64\n",
      "longitude                                           float64\n",
      "passenger_growth_rate                               float64\n",
      "attraction_density                                  float64\n",
      "total_non_passengers_2022                           float64\n",
      "total_non_passengers_2015                           float64\n",
      "non_passenger_growth_rate                           float64\n",
      "distance_to_paris                                   float64\n",
      "total_passengers_2022_min_max                       float64\n",
      "total_passengers_and_non_passengers_2022_min_max    float64\n",
      "total_passengers_2022_std                           float64\n",
      "total_passengers_and_non_passengers_2022_std        float64\n",
      "total_passengers_2022_bx                            float64\n",
      "total_passengers_and_non_passengers_2022_bx         float64\n",
      "total_passengers_2022_BC                            float64\n",
      "dtype: object\n",
      "Original shape:(735, 31)\n",
      "total_passengers_and_non_passengers_2022            float64\n",
      "total_passengers_2015                               float64\n",
      "total_passengers_and_non_passengers_2015            float64\n",
      "wifi_service                                          int64\n",
      "city_category_in_attraction_area_2020                 int64\n",
      "department                                            int64\n",
      "region                                                int64\n",
      "sum_municipal_population_2021                         int64\n",
      "non_scholarized_15_years_old_or_more_2020             int64\n",
      "main_residences_2020                                  int64\n",
      "housing_2020                                          int64\n",
      "jobs_at_workplace_2020                                int64\n",
      "hotels_2024_sum                                       int64\n",
      "camping_sites_2024_sum                                int64\n",
      "other_tourist_accommodations_2024_sum                 int64\n",
      "latitude                                            float64\n",
      "longitude                                           float64\n",
      "passenger_growth_rate                               float64\n",
      "attraction_density                                  float64\n",
      "total_non_passengers_2022                           float64\n",
      "total_non_passengers_2015                           float64\n",
      "non_passenger_growth_rate                           float64\n",
      "distance_to_paris                                   float64\n",
      "total_passengers_2022_min_max                       float64\n",
      "total_passengers_and_non_passengers_2022_min_max    float64\n",
      "total_passengers_2022_std                           float64\n",
      "total_passengers_and_non_passengers_2022_std        float64\n",
      "total_passengers_2022_bx                            float64\n",
      "total_passengers_and_non_passengers_2022_bx         float64\n",
      "total_passengers_2022_BC                            float64\n",
      "dtype: object\n"
     ]
    }
   ],
   "source": [
    "def minimum_preprocessing(X, y):\n",
    "    print('Original shape:{}'.format(X.shape))\n",
    "    # We kill categorical columns\n",
    "    X = X.drop(columns=X.select_dtypes(include='object').columns)\n",
    "    X = X.drop(columns=X.select_dtypes(include='category').columns)\n",
    "    # We remove missing values\n",
    "    X=X.dropna()\n",
    "    y=y[X.index]\n",
    "    # Normalize\n",
    "    \n",
    "    print(X.dtypes)\n",
    "    # X = minmax_scale(X)\n",
    "    # print('New shape:{}'.format(X.shape))\n",
    "    return X, y\n",
    "\n",
    "X_train, y_train = minimum_preprocessing(X_train,y_train)\n",
    "X_test, y_test = minimum_preprocessing(X_test,y_test)"
   ]
  },
  {
   "cell_type": "code",
   "execution_count": 34,
   "metadata": {},
   "outputs": [
    {
     "data": {
      "text/plain": [
       "<Axes: xlabel='total_passengers_2022'>"
      ]
     },
     "execution_count": 34,
     "metadata": {},
     "output_type": "execute_result"
    },
    {
     "data": {
      "image/png": "[encoded data removed]",
      "text/plain": [
       "<Figure size 640x480 with 1 Axes>"
      ]
     },
     "metadata": {},
     "output_type": "display_data"
    }
   ],
   "source": [
    "svm = LinearSVR()\n",
    "\n",
    "svm.fit(X_train,y_train)\n",
    "y_pred = svm.predict(X_test)\n",
    "\n",
    "model = 'SVR'\n",
    "hyperparameters = {'type': 'linear', 'C': 1, 'epsilon': 0}\n",
    "\n",
    "write_metrics_in_csv(y_test, y_pred, model, hyperparameters)\n",
    "\n",
    "\n",
    "sns.scatterplot(x=np.log(y_test), y=np.log(y_pred))"
   ]
  }
 ],
 "metadata": {
  "kernelspec": {
   "display_name": ".venv",
   "language": "python",
   "name": "python3"
  },
  "language_info": {
   "codemirror_mode": {
    "name": "ipython",
    "version": 3
   },
   "file_extension": ".py",
   "mimetype": "text/x-python",
   "name": "python",
   "nbconvert_exporter": "python",
   "pygments_lexer": "ipython3",
   "version": "3.12.2"
  }
 },
 "nbformat": 4,
 "nbformat_minor": 2
}
