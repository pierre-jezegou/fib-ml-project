{
 "cells": [
  {
   "cell_type": "markdown",
   "metadata": {},
   "source": [
    "# Project - Data preprocessing"
   ]
  },
  {
   "cell_type": "code",
   "execution_count": 1,
   "metadata": {},
   "outputs": [],
   "source": [
    "#%matplotlib notebook\n",
    "import numpy as np\n",
    "import matplotlib.pyplot as plt\n",
    "import seaborn as sn\n",
    "import pandas as pd\n",
    "from collections import Counter\n",
    "from IPython.core.interactiveshell import InteractiveShell"
   ]
  },
  {
   "cell_type": "code",
   "execution_count": 2,
   "metadata": {},
   "outputs": [],
   "source": [
    "InteractiveShell.ast_node_interactivity = \"all\"\n",
    "pd.set_option('display.precision', 3)"
   ]
  },
  {
   "cell_type": "code",
   "execution_count": 3,
   "metadata": {},
   "outputs": [],
   "source": [
    "# extra imports\n",
    "from pandas import read_csv\n",
    "from sklearn.neighbors import KNeighborsClassifier\n",
    "from sklearn.neighbors import LocalOutlierFactor\n",
    "from sklearn import preprocessing\n",
    "from statsmodels.genmod.generalized_linear_model import GLM\n",
    "from pandas.plotting import scatter_matrix\n",
    "from scipy.stats import boxcox"
   ]
  },
  {
   "cell_type": "code",
   "execution_count": 4,
   "metadata": {},
   "outputs": [],
   "source": [
    "data = '/Users/julieoppedal/Desktop/ML/project/dataset.csv'"
   ]
  },
  {
   "cell_type": "markdown",
   "metadata": {},
   "source": [
    "## SECTION 1: READING THE FILE DATASET.CSV "
   ]
  },
  {
   "cell_type": "code",
   "execution_count": 5,
   "metadata": {},
   "outputs": [
    {
     "data": {
      "text/plain": [
       "(2256, 35)"
      ]
     },
     "execution_count": 5,
     "metadata": {},
     "output_type": "execute_result"
    }
   ],
   "source": [
    "dataRead = read_csv(data, header=0, delimiter=';')\n",
    "dataRead.shape"
   ]
  },
  {
   "cell_type": "markdown",
   "metadata": {},
   "source": [
    " Question:\n",
    "\n",
    "* Which is the target variable? where is it? how many different values? is it a classification problem or a regression problem?\n",
    "\n",
    "* The target variable is located in column 3 and is called 'total_passengers_2022'; it has two possible values (therfore it is a classification problem)"
   ]
  },
  {
   "cell_type": "code",
   "execution_count": 6,
   "metadata": {},
   "outputs": [
    {
     "data": {
      "text/plain": [
       "Index(['city_name', 'trigram', 'drg_segment', 'geographical_position',\n",
       "       'city_code', 'uic', 'postal_code', 'total_passengers_2022',\n",
       "       'total_passengers_and_non_passengers_2022', 'Total Voyageurs 2021',\n",
       "       'total_passengers_2015', 'total_passengers_and_non_passengers_2015',\n",
       "       'piano', 'power_station', 'baby_foot', 'distr_histoires_courtes',\n",
       "       'total', 'wifi_service', 'city_label', 'city_attraction_area',\n",
       "       'city_attraction_label', 'city_category_in_attraction_area_2020',\n",
       "       'department', 'region', 'sum_municipal_population_2021',\n",
       "       'non_scholarized_15_years_old_or_more_2020', 'main_residences_2020',\n",
       "       'housing_2020', 'jobs_at_workplace_2020', 'active_employers_2021',\n",
       "       'hotels_2024_sum', 'hotel_rooms_2024_sum', 'camping_sites_2024_sum',\n",
       "       'camping_sites_2024_sum.1', 'other_tourist_accommodations_2024_sum'],\n",
       "      dtype='object')"
      ]
     },
     "execution_count": 6,
     "metadata": {},
     "output_type": "execute_result"
    }
   ],
   "source": [
    "dataRead.columns"
   ]
  },
  {
   "cell_type": "code",
   "execution_count": 7,
   "metadata": {},
   "outputs": [
    {
     "data": {
      "text/html": [
       "<div>\n",
       "<style scoped>\n",
       "    .dataframe tbody tr th:only-of-type {\n",
       "        vertical-align: middle;\n",
       "    }\n",
       "\n",
       "    .dataframe tbody tr th {\n",
       "        vertical-align: top;\n",
       "    }\n",
       "\n",
       "    .dataframe thead th {\n",
       "        text-align: right;\n",
       "    }\n",
       "</style>\n",
       "<table border=\"1\" class=\"dataframe\">\n",
       "  <thead>\n",
       "    <tr style=\"text-align: right;\">\n",
       "      <th></th>\n",
       "      <th>city_name</th>\n",
       "      <th>trigram</th>\n",
       "      <th>drg_segment</th>\n",
       "      <th>geographical_position</th>\n",
       "      <th>city_code</th>\n",
       "      <th>uic</th>\n",
       "      <th>postal_code</th>\n",
       "      <th>total_passengers_2022</th>\n",
       "      <th>total_passengers_and_non_passengers_2022</th>\n",
       "      <th>Total Voyageurs 2021</th>\n",
       "      <th>...</th>\n",
       "      <th>non_scholarized_15_years_old_or_more_2020</th>\n",
       "      <th>main_residences_2020</th>\n",
       "      <th>housing_2020</th>\n",
       "      <th>jobs_at_workplace_2020</th>\n",
       "      <th>active_employers_2021</th>\n",
       "      <th>hotels_2024_sum</th>\n",
       "      <th>hotel_rooms_2024_sum</th>\n",
       "      <th>camping_sites_2024_sum</th>\n",
       "      <th>camping_sites_2024_sum.1</th>\n",
       "      <th>other_tourist_accommodations_2024_sum</th>\n",
       "    </tr>\n",
       "  </thead>\n",
       "  <tbody>\n",
       "    <tr>\n",
       "      <th>0</th>\n",
       "      <td>Abancourt</td>\n",
       "      <td>ABT</td>\n",
       "      <td>C</td>\n",
       "      <td>49.6852237, 1.7743058</td>\n",
       "      <td>60001</td>\n",
       "      <td>0087313759</td>\n",
       "      <td>60220.0</td>\n",
       "      <td>71517.0</td>\n",
       "      <td>7.152e+04</td>\n",
       "      <td>51811.0</td>\n",
       "      <td>...</td>\n",
       "      <td>3492165</td>\n",
       "      <td>2011354</td>\n",
       "      <td>3253364</td>\n",
       "      <td>1282649</td>\n",
       "      <td>161765</td>\n",
       "      <td>2546</td>\n",
       "      <td>50198</td>\n",
       "      <td>2523</td>\n",
       "      <td>267790</td>\n",
       "      <td>1005</td>\n",
       "    </tr>\n",
       "    <tr>\n",
       "      <th>1</th>\n",
       "      <td>Abbaretz</td>\n",
       "      <td>AAR</td>\n",
       "      <td>C</td>\n",
       "      <td>47.5546432, -1.5244159</td>\n",
       "      <td>44001</td>\n",
       "      <td>0087481614</td>\n",
       "      <td>44170.0</td>\n",
       "      <td>40825.0</td>\n",
       "      <td>4.082e+04</td>\n",
       "      <td>27466.0</td>\n",
       "      <td>...</td>\n",
       "      <td>714965</td>\n",
       "      <td>459881</td>\n",
       "      <td>501124</td>\n",
       "      <td>471335</td>\n",
       "      <td>32792</td>\n",
       "      <td>115</td>\n",
       "      <td>6032</td>\n",
       "      <td>19</td>\n",
       "      <td>1412</td>\n",
       "      <td>40</td>\n",
       "    </tr>\n",
       "    <tr>\n",
       "      <th>2</th>\n",
       "      <td>Abbeville</td>\n",
       "      <td>ABB</td>\n",
       "      <td>B</td>\n",
       "      <td>50.10221, 1.82449</td>\n",
       "      <td>80001</td>\n",
       "      <td>0087317362</td>\n",
       "      <td>80100.0</td>\n",
       "      <td>841557.0</td>\n",
       "      <td>1.026e+06</td>\n",
       "      <td>650701.0</td>\n",
       "      <td>...</td>\n",
       "      <td>41763</td>\n",
       "      <td>24441</td>\n",
       "      <td>28313</td>\n",
       "      <td>19469</td>\n",
       "      <td>1687</td>\n",
       "      <td>8</td>\n",
       "      <td>282</td>\n",
       "      <td>9</td>\n",
       "      <td>1073</td>\n",
       "      <td>1</td>\n",
       "    </tr>\n",
       "    <tr>\n",
       "      <th>3</th>\n",
       "      <td>Achères Grand Cormier</td>\n",
       "      <td>GCR</td>\n",
       "      <td>B</td>\n",
       "      <td>48.9551835, 2.0919031</td>\n",
       "      <td>78551</td>\n",
       "      <td>0087386052</td>\n",
       "      <td>78100.0</td>\n",
       "      <td>177092.0</td>\n",
       "      <td>1.771e+05</td>\n",
       "      <td>209673.0</td>\n",
       "      <td>...</td>\n",
       "      <td>9184054</td>\n",
       "      <td>5642167</td>\n",
       "      <td>6342502</td>\n",
       "      <td>6066757</td>\n",
       "      <td>502457</td>\n",
       "      <td>2555</td>\n",
       "      <td>167383</td>\n",
       "      <td>89</td>\n",
       "      <td>13223</td>\n",
       "      <td>251</td>\n",
       "    </tr>\n",
       "  </tbody>\n",
       "</table>\n",
       "<p>4 rows × 35 columns</p>\n",
       "</div>"
      ],
      "text/plain": [
       "               city_name trigram drg_segment   geographical_position  \\\n",
       "0              Abancourt     ABT           C   49.6852237, 1.7743058   \n",
       "1               Abbaretz     AAR           C  47.5546432, -1.5244159   \n",
       "2              Abbeville     ABB           B       50.10221, 1.82449   \n",
       "3  Achères Grand Cormier     GCR           B   48.9551835, 2.0919031   \n",
       "\n",
       "   city_code         uic  postal_code  total_passengers_2022  \\\n",
       "0      60001  0087313759      60220.0                71517.0   \n",
       "1      44001  0087481614      44170.0                40825.0   \n",
       "2      80001  0087317362      80100.0               841557.0   \n",
       "3      78551  0087386052      78100.0               177092.0   \n",
       "\n",
       "   total_passengers_and_non_passengers_2022  Total Voyageurs 2021  ...  \\\n",
       "0                                 7.152e+04               51811.0  ...   \n",
       "1                                 4.082e+04               27466.0  ...   \n",
       "2                                 1.026e+06              650701.0  ...   \n",
       "3                                 1.771e+05              209673.0  ...   \n",
       "\n",
       "   non_scholarized_15_years_old_or_more_2020  main_residences_2020  \\\n",
       "0                                    3492165               2011354   \n",
       "1                                     714965                459881   \n",
       "2                                      41763                 24441   \n",
       "3                                    9184054               5642167   \n",
       "\n",
       "   housing_2020  jobs_at_workplace_2020  active_employers_2021  \\\n",
       "0       3253364                 1282649                 161765   \n",
       "1        501124                  471335                  32792   \n",
       "2         28313                   19469                   1687   \n",
       "3       6342502                 6066757                 502457   \n",
       "\n",
       "   hotels_2024_sum  hotel_rooms_2024_sum camping_sites_2024_sum  \\\n",
       "0             2546                 50198                   2523   \n",
       "1              115                  6032                     19   \n",
       "2                8                   282                      9   \n",
       "3             2555                167383                     89   \n",
       "\n",
       "  camping_sites_2024_sum.1 other_tourist_accommodations_2024_sum  \n",
       "0                   267790                                  1005  \n",
       "1                     1412                                    40  \n",
       "2                     1073                                     1  \n",
       "3                    13223                                   251  \n",
       "\n",
       "[4 rows x 35 columns]"
      ]
     },
     "execution_count": 7,
     "metadata": {},
     "output_type": "execute_result"
    }
   ],
   "source": [
    "dataRead[:4]"
   ]
  },
  {
   "cell_type": "markdown",
   "metadata": {},
   "source": [
    "## SECTION 2: BASIC INSPECTION OF THE DATASET"
   ]
  },
  {
   "cell_type": "code",
   "execution_count": 8,
   "metadata": {},
   "outputs": [
    {
     "data": {
      "text/html": [
       "<div>\n",
       "<style scoped>\n",
       "    .dataframe tbody tr th:only-of-type {\n",
       "        vertical-align: middle;\n",
       "    }\n",
       "\n",
       "    .dataframe tbody tr th {\n",
       "        vertical-align: top;\n",
       "    }\n",
       "\n",
       "    .dataframe thead th {\n",
       "        text-align: right;\n",
       "    }\n",
       "</style>\n",
       "<table border=\"1\" class=\"dataframe\">\n",
       "  <thead>\n",
       "    <tr style=\"text-align: right;\">\n",
       "      <th></th>\n",
       "      <th>city_code</th>\n",
       "      <th>postal_code</th>\n",
       "      <th>total_passengers_2022</th>\n",
       "      <th>total_passengers_and_non_passengers_2022</th>\n",
       "      <th>Total Voyageurs 2021</th>\n",
       "      <th>total_passengers_2015</th>\n",
       "      <th>total_passengers_and_non_passengers_2015</th>\n",
       "      <th>piano</th>\n",
       "      <th>power_station</th>\n",
       "      <th>baby_foot</th>\n",
       "      <th>...</th>\n",
       "      <th>non_scholarized_15_years_old_or_more_2020</th>\n",
       "      <th>main_residences_2020</th>\n",
       "      <th>housing_2020</th>\n",
       "      <th>jobs_at_workplace_2020</th>\n",
       "      <th>active_employers_2021</th>\n",
       "      <th>hotels_2024_sum</th>\n",
       "      <th>hotel_rooms_2024_sum</th>\n",
       "      <th>camping_sites_2024_sum</th>\n",
       "      <th>camping_sites_2024_sum.1</th>\n",
       "      <th>other_tourist_accommodations_2024_sum</th>\n",
       "    </tr>\n",
       "  </thead>\n",
       "  <tbody>\n",
       "    <tr>\n",
       "      <th>count</th>\n",
       "      <td>2256.000</td>\n",
       "      <td>2249.000</td>\n",
       "      <td>2.249e+03</td>\n",
       "      <td>2.249e+03</td>\n",
       "      <td>2.249e+03</td>\n",
       "      <td>2.249e+03</td>\n",
       "      <td>2.249e+03</td>\n",
       "      <td>77.000</td>\n",
       "      <td>77.000</td>\n",
       "      <td>77.000</td>\n",
       "      <td>...</td>\n",
       "      <td>2.256e+03</td>\n",
       "      <td>2.256e+03</td>\n",
       "      <td>2.256e+03</td>\n",
       "      <td>2.256e+03</td>\n",
       "      <td>2256.000</td>\n",
       "      <td>2256.000</td>\n",
       "      <td>2256.000</td>\n",
       "      <td>2256.000</td>\n",
       "      <td>2256.000</td>\n",
       "      <td>2256.000</td>\n",
       "    </tr>\n",
       "    <tr>\n",
       "      <th>mean</th>\n",
       "      <td>51275.347</td>\n",
       "      <td>51388.326</td>\n",
       "      <td>3.902e+05</td>\n",
       "      <td>4.591e+05</td>\n",
       "      <td>3.066e+05</td>\n",
       "      <td>3.639e+05</td>\n",
       "      <td>4.232e+05</td>\n",
       "      <td>0.649</td>\n",
       "      <td>0.571</td>\n",
       "      <td>0.208</td>\n",
       "      <td>...</td>\n",
       "      <td>1.422e+06</td>\n",
       "      <td>8.647e+05</td>\n",
       "      <td>1.078e+06</td>\n",
       "      <td>8.143e+05</td>\n",
       "      <td>72737.148</td>\n",
       "      <td>550.100</td>\n",
       "      <td>22690.118</td>\n",
       "      <td>288.690</td>\n",
       "      <td>31246.423</td>\n",
       "      <td>138.610</td>\n",
       "    </tr>\n",
       "    <tr>\n",
       "      <th>std</th>\n",
       "      <td>20509.155</td>\n",
       "      <td>20496.799</td>\n",
       "      <td>1.438e+06</td>\n",
       "      <td>1.736e+06</td>\n",
       "      <td>1.121e+06</td>\n",
       "      <td>1.361e+06</td>\n",
       "      <td>1.582e+06</td>\n",
       "      <td>0.507</td>\n",
       "      <td>0.952</td>\n",
       "      <td>0.408</td>\n",
       "      <td>...</td>\n",
       "      <td>2.601e+06</td>\n",
       "      <td>1.587e+06</td>\n",
       "      <td>1.881e+06</td>\n",
       "      <td>1.665e+06</td>\n",
       "      <td>140767.428</td>\n",
       "      <td>977.676</td>\n",
       "      <td>46918.922</td>\n",
       "      <td>767.927</td>\n",
       "      <td>81383.028</td>\n",
       "      <td>305.371</td>\n",
       "    </tr>\n",
       "    <tr>\n",
       "      <th>min</th>\n",
       "      <td>10033.000</td>\n",
       "      <td>10014.000</td>\n",
       "      <td>0.000e+00</td>\n",
       "      <td>0.000e+00</td>\n",
       "      <td>0.000e+00</td>\n",
       "      <td>0.000e+00</td>\n",
       "      <td>0.000e+00</td>\n",
       "      <td>0.000</td>\n",
       "      <td>0.000</td>\n",
       "      <td>0.000</td>\n",
       "      <td>...</td>\n",
       "      <td>1.551e+03</td>\n",
       "      <td>9.750e+02</td>\n",
       "      <td>1.194e+03</td>\n",
       "      <td>1.524e+03</td>\n",
       "      <td>84.000</td>\n",
       "      <td>0.000</td>\n",
       "      <td>0.000</td>\n",
       "      <td>0.000</td>\n",
       "      <td>0.000</td>\n",
       "      <td>0.000</td>\n",
       "    </tr>\n",
       "    <tr>\n",
       "      <th>25%</th>\n",
       "      <td>33508.500</td>\n",
       "      <td>33720.000</td>\n",
       "      <td>1.131e+04</td>\n",
       "      <td>1.131e+04</td>\n",
       "      <td>8.633e+03</td>\n",
       "      <td>9.173e+03</td>\n",
       "      <td>9.173e+03</td>\n",
       "      <td>0.000</td>\n",
       "      <td>0.000</td>\n",
       "      <td>0.000</td>\n",
       "      <td>...</td>\n",
       "      <td>5.783e+04</td>\n",
       "      <td>3.373e+04</td>\n",
       "      <td>3.969e+04</td>\n",
       "      <td>2.851e+04</td>\n",
       "      <td>2642.000</td>\n",
       "      <td>18.000</td>\n",
       "      <td>652.000</td>\n",
       "      <td>6.000</td>\n",
       "      <td>517.000</td>\n",
       "      <td>2.000</td>\n",
       "    </tr>\n",
       "    <tr>\n",
       "      <th>50%</th>\n",
       "      <td>56185.000</td>\n",
       "      <td>56400.000</td>\n",
       "      <td>4.954e+04</td>\n",
       "      <td>4.966e+04</td>\n",
       "      <td>3.792e+04</td>\n",
       "      <td>4.021e+04</td>\n",
       "      <td>4.021e+04</td>\n",
       "      <td>1.000</td>\n",
       "      <td>0.000</td>\n",
       "      <td>0.000</td>\n",
       "      <td>...</td>\n",
       "      <td>2.694e+05</td>\n",
       "      <td>1.652e+05</td>\n",
       "      <td>1.861e+05</td>\n",
       "      <td>1.444e+05</td>\n",
       "      <td>12092.000</td>\n",
       "      <td>64.500</td>\n",
       "      <td>3121.000</td>\n",
       "      <td>17.000</td>\n",
       "      <td>1433.000</td>\n",
       "      <td>9.000</td>\n",
       "    </tr>\n",
       "    <tr>\n",
       "      <th>75%</th>\n",
       "      <td>68048.000</td>\n",
       "      <td>68000.000</td>\n",
       "      <td>1.930e+05</td>\n",
       "      <td>2.379e+05</td>\n",
       "      <td>1.509e+05</td>\n",
       "      <td>1.731e+05</td>\n",
       "      <td>2.129e+05</td>\n",
       "      <td>1.000</td>\n",
       "      <td>1.000</td>\n",
       "      <td>0.000</td>\n",
       "      <td>...</td>\n",
       "      <td>1.043e+06</td>\n",
       "      <td>6.849e+05</td>\n",
       "      <td>7.607e+05</td>\n",
       "      <td>6.685e+05</td>\n",
       "      <td>50277.000</td>\n",
       "      <td>238.000</td>\n",
       "      <td>12380.000</td>\n",
       "      <td>51.000</td>\n",
       "      <td>7740.000</td>\n",
       "      <td>45.000</td>\n",
       "    </tr>\n",
       "    <tr>\n",
       "      <th>max</th>\n",
       "      <td>85226.000</td>\n",
       "      <td>92370.000</td>\n",
       "      <td>2.199e+07</td>\n",
       "      <td>2.784e+07</td>\n",
       "      <td>1.645e+07</td>\n",
       "      <td>2.419e+07</td>\n",
       "      <td>2.419e+07</td>\n",
       "      <td>2.000</td>\n",
       "      <td>3.000</td>\n",
       "      <td>1.000</td>\n",
       "      <td>...</td>\n",
       "      <td>9.184e+06</td>\n",
       "      <td>5.642e+06</td>\n",
       "      <td>6.343e+06</td>\n",
       "      <td>6.067e+06</td>\n",
       "      <td>502457.000</td>\n",
       "      <td>2555.000</td>\n",
       "      <td>167383.000</td>\n",
       "      <td>2523.000</td>\n",
       "      <td>267790.000</td>\n",
       "      <td>1005.000</td>\n",
       "    </tr>\n",
       "  </tbody>\n",
       "</table>\n",
       "<p>8 rows × 26 columns</p>\n",
       "</div>"
      ],
      "text/plain": [
       "       city_code  postal_code  total_passengers_2022  \\\n",
       "count   2256.000     2249.000              2.249e+03   \n",
       "mean   51275.347    51388.326              3.902e+05   \n",
       "std    20509.155    20496.799              1.438e+06   \n",
       "min    10033.000    10014.000              0.000e+00   \n",
       "25%    33508.500    33720.000              1.131e+04   \n",
       "50%    56185.000    56400.000              4.954e+04   \n",
       "75%    68048.000    68000.000              1.930e+05   \n",
       "max    85226.000    92370.000              2.199e+07   \n",
       "\n",
       "       total_passengers_and_non_passengers_2022  Total Voyageurs 2021  \\\n",
       "count                                 2.249e+03             2.249e+03   \n",
       "mean                                  4.591e+05             3.066e+05   \n",
       "std                                   1.736e+06             1.121e+06   \n",
       "min                                   0.000e+00             0.000e+00   \n",
       "25%                                   1.131e+04             8.633e+03   \n",
       "50%                                   4.966e+04             3.792e+04   \n",
       "75%                                   2.379e+05             1.509e+05   \n",
       "max                                   2.784e+07             1.645e+07   \n",
       "\n",
       "       total_passengers_2015  total_passengers_and_non_passengers_2015  \\\n",
       "count              2.249e+03                                 2.249e+03   \n",
       "mean               3.639e+05                                 4.232e+05   \n",
       "std                1.361e+06                                 1.582e+06   \n",
       "min                0.000e+00                                 0.000e+00   \n",
       "25%                9.173e+03                                 9.173e+03   \n",
       "50%                4.021e+04                                 4.021e+04   \n",
       "75%                1.731e+05                                 2.129e+05   \n",
       "max                2.419e+07                                 2.419e+07   \n",
       "\n",
       "        piano  power_station  baby_foot  ...  \\\n",
       "count  77.000         77.000     77.000  ...   \n",
       "mean    0.649          0.571      0.208  ...   \n",
       "std     0.507          0.952      0.408  ...   \n",
       "min     0.000          0.000      0.000  ...   \n",
       "25%     0.000          0.000      0.000  ...   \n",
       "50%     1.000          0.000      0.000  ...   \n",
       "75%     1.000          1.000      0.000  ...   \n",
       "max     2.000          3.000      1.000  ...   \n",
       "\n",
       "       non_scholarized_15_years_old_or_more_2020  main_residences_2020  \\\n",
       "count                                  2.256e+03             2.256e+03   \n",
       "mean                                   1.422e+06             8.647e+05   \n",
       "std                                    2.601e+06             1.587e+06   \n",
       "min                                    1.551e+03             9.750e+02   \n",
       "25%                                    5.783e+04             3.373e+04   \n",
       "50%                                    2.694e+05             1.652e+05   \n",
       "75%                                    1.043e+06             6.849e+05   \n",
       "max                                    9.184e+06             5.642e+06   \n",
       "\n",
       "       housing_2020  jobs_at_workplace_2020  active_employers_2021  \\\n",
       "count     2.256e+03               2.256e+03               2256.000   \n",
       "mean      1.078e+06               8.143e+05              72737.148   \n",
       "std       1.881e+06               1.665e+06             140767.428   \n",
       "min       1.194e+03               1.524e+03                 84.000   \n",
       "25%       3.969e+04               2.851e+04               2642.000   \n",
       "50%       1.861e+05               1.444e+05              12092.000   \n",
       "75%       7.607e+05               6.685e+05              50277.000   \n",
       "max       6.343e+06               6.067e+06             502457.000   \n",
       "\n",
       "       hotels_2024_sum  hotel_rooms_2024_sum  camping_sites_2024_sum  \\\n",
       "count         2256.000              2256.000                2256.000   \n",
       "mean           550.100             22690.118                 288.690   \n",
       "std            977.676             46918.922                 767.927   \n",
       "min              0.000                 0.000                   0.000   \n",
       "25%             18.000               652.000                   6.000   \n",
       "50%             64.500              3121.000                  17.000   \n",
       "75%            238.000             12380.000                  51.000   \n",
       "max           2555.000            167383.000                2523.000   \n",
       "\n",
       "       camping_sites_2024_sum.1  other_tourist_accommodations_2024_sum  \n",
       "count                  2256.000                               2256.000  \n",
       "mean                  31246.423                                138.610  \n",
       "std                   81383.028                                305.371  \n",
       "min                       0.000                                  0.000  \n",
       "25%                     517.000                                  2.000  \n",
       "50%                    1433.000                                  9.000  \n",
       "75%                    7740.000                                 45.000  \n",
       "max                  267790.000                               1005.000  \n",
       "\n",
       "[8 rows x 26 columns]"
      ]
     },
     "execution_count": 8,
     "metadata": {},
     "output_type": "execute_result"
    }
   ],
   "source": [
    "dataRead.describe()"
   ]
  },
  {
   "cell_type": "markdown",
   "metadata": {},
   "source": [
    "Observations\n",
    "\n",
    "Zero Values: Columns such as total_passengers_2022 and total_passengers_and_non_passengers_2022 have zero values. These may need special handling.\n",
    "\n",
    "High Variability: Many columns, like total_passengers_2022, have high standard deviations, indicating significant variability in the data.\n",
    "\n",
    "Missing Data: Columns like distr_histoires_courtes and total have significantly fewer entries, suggesting missing data that may need imputation or dropping.\n",
    "\n",
    "Next Steps\n",
    "Handle Missing Values: Impute or remove missing values appropriately.\n",
    "Normalize Data: Normalize or standardize numerical columns to prepare for machine learning models.\n",
    "Outlier Treatment: Identify and handle outliers in the data to ensure robust analysis"
   ]
  },
  {
   "cell_type": "code",
   "execution_count": 9,
   "metadata": {},
   "outputs": [
    {
     "data": {
      "text/html": [
       "<div>\n",
       "<style scoped>\n",
       "    .dataframe tbody tr th:only-of-type {\n",
       "        vertical-align: middle;\n",
       "    }\n",
       "\n",
       "    .dataframe tbody tr th {\n",
       "        vertical-align: top;\n",
       "    }\n",
       "\n",
       "    .dataframe thead th {\n",
       "        text-align: right;\n",
       "    }\n",
       "</style>\n",
       "<table border=\"1\" class=\"dataframe\">\n",
       "  <thead>\n",
       "    <tr style=\"text-align: right;\">\n",
       "      <th></th>\n",
       "      <th>total_passengers_2022</th>\n",
       "      <th>total_passengers_and_non_passengers_2022</th>\n",
       "      <th>total_passengers_2015</th>\n",
       "      <th>total_passengers_and_non_passengers_2015</th>\n",
       "      <th>city_category_in_attraction_area_2020</th>\n",
       "      <th>department</th>\n",
       "      <th>region</th>\n",
       "      <th>sum_municipal_population_2021</th>\n",
       "      <th>non_scholarized_15_years_old_or_more_2020</th>\n",
       "      <th>main_residences_2020</th>\n",
       "      <th>housing_2020</th>\n",
       "      <th>jobs_at_workplace_2020</th>\n",
       "      <th>hotels_2024_sum</th>\n",
       "      <th>camping_sites_2024_sum</th>\n",
       "      <th>other_tourist_accommodations_2024_sum</th>\n",
       "    </tr>\n",
       "  </thead>\n",
       "  <tbody>\n",
       "    <tr>\n",
       "      <th>count</th>\n",
       "      <td>2.249e+03</td>\n",
       "      <td>2.249e+03</td>\n",
       "      <td>2.249e+03</td>\n",
       "      <td>2.249e+03</td>\n",
       "      <td>2256.000</td>\n",
       "      <td>2256.000</td>\n",
       "      <td>2256.000</td>\n",
       "      <td>2.256e+03</td>\n",
       "      <td>2.256e+03</td>\n",
       "      <td>2.256e+03</td>\n",
       "      <td>2.256e+03</td>\n",
       "      <td>2.256e+03</td>\n",
       "      <td>2256.000</td>\n",
       "      <td>2256.000</td>\n",
       "      <td>2256.000</td>\n",
       "    </tr>\n",
       "    <tr>\n",
       "      <th>mean</th>\n",
       "      <td>3.902e+05</td>\n",
       "      <td>4.591e+05</td>\n",
       "      <td>3.639e+05</td>\n",
       "      <td>4.232e+05</td>\n",
       "      <td>18.509</td>\n",
       "      <td>51.033</td>\n",
       "      <td>51.183</td>\n",
       "      <td>1.974e+06</td>\n",
       "      <td>1.422e+06</td>\n",
       "      <td>8.647e+05</td>\n",
       "      <td>1.078e+06</td>\n",
       "      <td>8.143e+05</td>\n",
       "      <td>550.100</td>\n",
       "      <td>288.690</td>\n",
       "      <td>138.610</td>\n",
       "    </tr>\n",
       "    <tr>\n",
       "      <th>std</th>\n",
       "      <td>1.438e+06</td>\n",
       "      <td>1.736e+06</td>\n",
       "      <td>1.361e+06</td>\n",
       "      <td>1.582e+06</td>\n",
       "      <td>5.512</td>\n",
       "      <td>20.491</td>\n",
       "      <td>24.222</td>\n",
       "      <td>3.690e+06</td>\n",
       "      <td>2.601e+06</td>\n",
       "      <td>1.587e+06</td>\n",
       "      <td>1.881e+06</td>\n",
       "      <td>1.665e+06</td>\n",
       "      <td>977.676</td>\n",
       "      <td>767.927</td>\n",
       "      <td>305.371</td>\n",
       "    </tr>\n",
       "    <tr>\n",
       "      <th>min</th>\n",
       "      <td>0.000e+00</td>\n",
       "      <td>0.000e+00</td>\n",
       "      <td>0.000e+00</td>\n",
       "      <td>0.000e+00</td>\n",
       "      <td>11.000</td>\n",
       "      <td>10.000</td>\n",
       "      <td>11.000</td>\n",
       "      <td>1.893e+03</td>\n",
       "      <td>1.551e+03</td>\n",
       "      <td>9.750e+02</td>\n",
       "      <td>1.194e+03</td>\n",
       "      <td>1.524e+03</td>\n",
       "      <td>0.000</td>\n",
       "      <td>0.000</td>\n",
       "      <td>0.000</td>\n",
       "    </tr>\n",
       "    <tr>\n",
       "      <th>25%</th>\n",
       "      <td>1.131e+04</td>\n",
       "      <td>1.131e+04</td>\n",
       "      <td>9.173e+03</td>\n",
       "      <td>9.173e+03</td>\n",
       "      <td>12.000</td>\n",
       "      <td>33.000</td>\n",
       "      <td>32.000</td>\n",
       "      <td>7.569e+04</td>\n",
       "      <td>5.783e+04</td>\n",
       "      <td>3.373e+04</td>\n",
       "      <td>3.969e+04</td>\n",
       "      <td>2.851e+04</td>\n",
       "      <td>18.000</td>\n",
       "      <td>6.000</td>\n",
       "      <td>2.000</td>\n",
       "    </tr>\n",
       "    <tr>\n",
       "      <th>50%</th>\n",
       "      <td>4.954e+04</td>\n",
       "      <td>4.966e+04</td>\n",
       "      <td>4.021e+04</td>\n",
       "      <td>4.021e+04</td>\n",
       "      <td>20.000</td>\n",
       "      <td>56.000</td>\n",
       "      <td>44.000</td>\n",
       "      <td>3.700e+05</td>\n",
       "      <td>2.694e+05</td>\n",
       "      <td>1.652e+05</td>\n",
       "      <td>1.861e+05</td>\n",
       "      <td>1.444e+05</td>\n",
       "      <td>64.500</td>\n",
       "      <td>17.000</td>\n",
       "      <td>9.000</td>\n",
       "    </tr>\n",
       "    <tr>\n",
       "      <th>75%</th>\n",
       "      <td>1.930e+05</td>\n",
       "      <td>2.379e+05</td>\n",
       "      <td>1.731e+05</td>\n",
       "      <td>2.129e+05</td>\n",
       "      <td>20.000</td>\n",
       "      <td>68.000</td>\n",
       "      <td>76.000</td>\n",
       "      <td>1.522e+06</td>\n",
       "      <td>1.043e+06</td>\n",
       "      <td>6.849e+05</td>\n",
       "      <td>7.607e+05</td>\n",
       "      <td>6.685e+05</td>\n",
       "      <td>238.000</td>\n",
       "      <td>51.000</td>\n",
       "      <td>45.000</td>\n",
       "    </tr>\n",
       "    <tr>\n",
       "      <th>max</th>\n",
       "      <td>2.199e+07</td>\n",
       "      <td>2.784e+07</td>\n",
       "      <td>2.419e+07</td>\n",
       "      <td>2.419e+07</td>\n",
       "      <td>30.000</td>\n",
       "      <td>85.000</td>\n",
       "      <td>93.000</td>\n",
       "      <td>1.317e+07</td>\n",
       "      <td>9.184e+06</td>\n",
       "      <td>5.642e+06</td>\n",
       "      <td>6.343e+06</td>\n",
       "      <td>6.067e+06</td>\n",
       "      <td>2555.000</td>\n",
       "      <td>2523.000</td>\n",
       "      <td>1005.000</td>\n",
       "    </tr>\n",
       "  </tbody>\n",
       "</table>\n",
       "</div>"
      ],
      "text/plain": [
       "       total_passengers_2022  total_passengers_and_non_passengers_2022  \\\n",
       "count              2.249e+03                                 2.249e+03   \n",
       "mean               3.902e+05                                 4.591e+05   \n",
       "std                1.438e+06                                 1.736e+06   \n",
       "min                0.000e+00                                 0.000e+00   \n",
       "25%                1.131e+04                                 1.131e+04   \n",
       "50%                4.954e+04                                 4.966e+04   \n",
       "75%                1.930e+05                                 2.379e+05   \n",
       "max                2.199e+07                                 2.784e+07   \n",
       "\n",
       "       total_passengers_2015  total_passengers_and_non_passengers_2015  \\\n",
       "count              2.249e+03                                 2.249e+03   \n",
       "mean               3.639e+05                                 4.232e+05   \n",
       "std                1.361e+06                                 1.582e+06   \n",
       "min                0.000e+00                                 0.000e+00   \n",
       "25%                9.173e+03                                 9.173e+03   \n",
       "50%                4.021e+04                                 4.021e+04   \n",
       "75%                1.731e+05                                 2.129e+05   \n",
       "max                2.419e+07                                 2.419e+07   \n",
       "\n",
       "       city_category_in_attraction_area_2020  department    region  \\\n",
       "count                               2256.000    2256.000  2256.000   \n",
       "mean                                  18.509      51.033    51.183   \n",
       "std                                    5.512      20.491    24.222   \n",
       "min                                   11.000      10.000    11.000   \n",
       "25%                                   12.000      33.000    32.000   \n",
       "50%                                   20.000      56.000    44.000   \n",
       "75%                                   20.000      68.000    76.000   \n",
       "max                                   30.000      85.000    93.000   \n",
       "\n",
       "       sum_municipal_population_2021  \\\n",
       "count                      2.256e+03   \n",
       "mean                       1.974e+06   \n",
       "std                        3.690e+06   \n",
       "min                        1.893e+03   \n",
       "25%                        7.569e+04   \n",
       "50%                        3.700e+05   \n",
       "75%                        1.522e+06   \n",
       "max                        1.317e+07   \n",
       "\n",
       "       non_scholarized_15_years_old_or_more_2020  main_residences_2020  \\\n",
       "count                                  2.256e+03             2.256e+03   \n",
       "mean                                   1.422e+06             8.647e+05   \n",
       "std                                    2.601e+06             1.587e+06   \n",
       "min                                    1.551e+03             9.750e+02   \n",
       "25%                                    5.783e+04             3.373e+04   \n",
       "50%                                    2.694e+05             1.652e+05   \n",
       "75%                                    1.043e+06             6.849e+05   \n",
       "max                                    9.184e+06             5.642e+06   \n",
       "\n",
       "       housing_2020  jobs_at_workplace_2020  hotels_2024_sum  \\\n",
       "count     2.256e+03               2.256e+03         2256.000   \n",
       "mean      1.078e+06               8.143e+05          550.100   \n",
       "std       1.881e+06               1.665e+06          977.676   \n",
       "min       1.194e+03               1.524e+03            0.000   \n",
       "25%       3.969e+04               2.851e+04           18.000   \n",
       "50%       1.861e+05               1.444e+05           64.500   \n",
       "75%       7.607e+05               6.685e+05          238.000   \n",
       "max       6.343e+06               6.067e+06         2555.000   \n",
       "\n",
       "       camping_sites_2024_sum  other_tourist_accommodations_2024_sum  \n",
       "count                2256.000                               2256.000  \n",
       "mean                  288.690                                138.610  \n",
       "std                   767.927                                305.371  \n",
       "min                     0.000                                  0.000  \n",
       "25%                     6.000                                  2.000  \n",
       "50%                    17.000                                  9.000  \n",
       "75%                    51.000                                 45.000  \n",
       "max                  2523.000                               1005.000  "
      ]
     },
     "execution_count": 9,
     "metadata": {},
     "output_type": "execute_result"
    },
    {
     "data": {
      "text/plain": [
       "Index(['city_name', 'drg_segment', 'total_passengers_2022',\n",
       "       'total_passengers_and_non_passengers_2022', 'total_passengers_2015',\n",
       "       'total_passengers_and_non_passengers_2015', 'wifi_service',\n",
       "       'city_label', 'city_attraction_area',\n",
       "       'city_category_in_attraction_area_2020', 'department', 'region',\n",
       "       'sum_municipal_population_2021',\n",
       "       'non_scholarized_15_years_old_or_more_2020', 'main_residences_2020',\n",
       "       'housing_2020', 'jobs_at_workplace_2020', 'hotels_2024_sum',\n",
       "       'camping_sites_2024_sum', 'other_tourist_accommodations_2024_sum',\n",
       "       'latitude', 'longitude'],\n",
       "      dtype='object')"
      ]
     },
     "execution_count": 9,
     "metadata": {},
     "output_type": "execute_result"
    }
   ],
   "source": [
    "#remove services except wifi, trigram, city code, uic, postal code, Total Voyageurs 2021, city_attraction_label, active_employers_2021, hotel_rooms_2024_sum, camping_sites_2024_sum.1\n",
    "# split geographical_position\n",
    "#Assign No for missing WIFI\n",
    "\n",
    "columns_to_drop = [\n",
    "    'trigram', 'city_code', 'uic', 'postal_code', 'Total Voyageurs 2021',\n",
    "    'city_attraction_label', 'active_employers_2021', 'hotel_rooms_2024_sum',\n",
    "    'camping_sites_2024_sum.1','power_station','baby_foot','piano', 'distr_histoires_courtes','total'\n",
    "]\n",
    "dataRead.drop(columns=columns_to_drop, axis=1, inplace=True)\n",
    "\n",
    "# Splitting geographical_position into latitude and longitude\n",
    "dataRead[['latitude', 'longitude']] = dataRead['geographical_position'].str.split(',', expand=True)\n",
    "dataRead.drop(columns=['geographical_position'], axis=1, inplace=True)\n",
    "\n",
    "dataRead.describe()\n",
    "dataRead.columns"
   ]
  },
  {
   "cell_type": "markdown",
   "metadata": {},
   "source": [
    "## SECTION 3: DEALING WITH MISSING VALUES"
   ]
  },
  {
   "cell_type": "markdown",
   "metadata": {},
   "source": [
    "First we decide to remove the missing values for some of the numerical variables as there are few of them."
   ]
  },
  {
   "cell_type": "code",
   "execution_count": 10,
   "metadata": {},
   "outputs": [
    {
     "data": {
      "text/plain": [
       "total_passengers_2022\n",
       "False    2246\n",
       "True       10\n",
       "Name: count, dtype: int64"
      ]
     },
     "execution_count": 10,
     "metadata": {},
     "output_type": "execute_result"
    },
    {
     "data": {
      "text/plain": [
       "total_passengers_and_non_passengers_2022\n",
       "False    2246\n",
       "True       10\n",
       "Name: count, dtype: int64"
      ]
     },
     "execution_count": 10,
     "metadata": {},
     "output_type": "execute_result"
    },
    {
     "data": {
      "text/plain": [
       "total_passengers_2015\n",
       "False    2243\n",
       "True       13\n",
       "Name: count, dtype: int64"
      ]
     },
     "execution_count": 10,
     "metadata": {},
     "output_type": "execute_result"
    },
    {
     "data": {
      "text/plain": [
       "total_passengers_and_non_passengers_2015\n",
       "False    2243\n",
       "True       13\n",
       "Name: count, dtype: int64"
      ]
     },
     "execution_count": 10,
     "metadata": {},
     "output_type": "execute_result"
    }
   ],
   "source": [
    "(dataRead.total_passengers_2022\t==0).value_counts()\n",
    "(dataRead.total_passengers_and_non_passengers_2022\t==0).value_counts()\n",
    "(dataRead.total_passengers_2015\t==0).value_counts()\n",
    "(dataRead.total_passengers_and_non_passengers_2015\t==0).value_counts()\n"
   ]
  },
  {
   "cell_type": "code",
   "execution_count": 11,
   "metadata": {},
   "outputs": [
    {
     "data": {
      "text/plain": [
       "(2234, 22)"
      ]
     },
     "execution_count": 11,
     "metadata": {},
     "output_type": "execute_result"
    }
   ],
   "source": [
    "dataRead=  dataRead[(dataRead.total_passengers_2022!=0) & (dataRead.total_passengers_and_non_passengers_2022!=0) \n",
    "                    & (dataRead.total_passengers_2015!=0) & (dataRead.total_passengers_and_non_passengers_2015!=0)]\n",
    "dataRead.shape"
   ]
  },
  {
   "cell_type": "markdown",
   "metadata": {},
   "source": [
    "We identified that the `wifi_service` column contains the values 'Non' (No), 'Oui' (Yes), and some missing values (`NaN`). The distribution of these values was as follows:\n",
    "\n",
    "- **Non**: 2106\n",
    "- **Oui**: 120\n",
    "- **NaN**: 8\n",
    "\n",
    "### Strategy\n",
    "\n",
    "To handle the missing values and convert the categorical values to binary, we:\n",
    "1. Removed rows with `NaN` values in the `wifi_service` column.\n",
    "2. Converted 'Oui' to 1 and 'Non' to 0."
   ]
  },
  {
   "cell_type": "code",
   "execution_count": 12,
   "metadata": {},
   "outputs": [
    {
     "data": {
      "text/plain": [
       "wifi_service\n",
       "0    2106\n",
       "1     120\n",
       "Name: count, dtype: int64"
      ]
     },
     "execution_count": 12,
     "metadata": {},
     "output_type": "execute_result"
    }
   ],
   "source": [
    "# Remove rows with NaN values in wifi_service\n",
    "dataRead = dataRead.dropna(subset=['wifi_service'])\n",
    "\n",
    "# Convert 'Oui' to 1 and 'Non' to 0 in wifi_service\n",
    "dataRead['wifi_service'] = dataRead['wifi_service'].map({'Oui': 1, 'Non': 0})\n",
    "\n",
    "# Display the updated frequency of each value in wifi_service column\n",
    "wifi_service_value_counts = dataRead['wifi_service'].value_counts(dropna=False)\n",
    "wifi_service_value_counts"
   ]
  },
  {
   "cell_type": "markdown",
   "metadata": {},
   "source": [
    "## SECTION 4: FINDING OUTLIERS\n",
    "\n",
    "In real data you are usually going to find outliers. It can be because the data is just like that or because there are wrong values stored.\n",
    "\n",
    "It is important to identify them so you can remove them, impute them, or just acknowledge their existence and take into account in your analysis.\n",
    "\n",
    "Some machine learning models are very sensitive to outliers.\n",
    "\n",
    "There are a lot of ways to define an outlier. Here we are going to talk about a basic and a complex one."
   ]
  },
  {
   "cell_type": "code",
   "execution_count": 13,
   "metadata": {},
   "outputs": [
    {
     "data": {
      "text/plain": [
       "<Figure size 720x360 with 0 Axes>"
      ]
     },
     "execution_count": 13,
     "metadata": {},
     "output_type": "execute_result"
    },
    {
     "data": {
      "text/plain": [
       "<AxesSubplot:>"
      ]
     },
     "execution_count": 13,
     "metadata": {},
     "output_type": "execute_result"
    },
    {
     "data": {
      "text/plain": [
       "Text(0.5, 1.0, 'Box plot for total_passengers_2022')"
      ]
     },
     "execution_count": 13,
     "metadata": {},
     "output_type": "execute_result"
    },
    {
     "data": {
      "image/png": "[encoded data removed]",
      "text/plain": [
       "<Figure size 720x360 with 1 Axes>"
      ]
     },
     "metadata": {
      "needs_background": "light"
     },
     "output_type": "display_data"
    },
    {
     "data": {
      "text/plain": [
       "<Figure size 720x360 with 0 Axes>"
      ]
     },
     "execution_count": 13,
     "metadata": {},
     "output_type": "execute_result"
    },
    {
     "data": {
      "text/plain": [
       "<AxesSubplot:>"
      ]
     },
     "execution_count": 13,
     "metadata": {},
     "output_type": "execute_result"
    },
    {
     "data": {
      "text/plain": [
       "Text(0.5, 1.0, 'Box plot for total_passengers_and_non_passengers_2022')"
      ]
     },
     "execution_count": 13,
     "metadata": {},
     "output_type": "execute_result"
    },
    {
     "data": {
      "image/png": "[encoded data removed]",
      "text/plain": [
       "<Figure size 720x360 with 1 Axes>"
      ]
     },
     "metadata": {
      "needs_background": "light"
     },
     "output_type": "display_data"
    },
    {
     "data": {
      "text/plain": [
       "<Figure size 720x360 with 0 Axes>"
      ]
     },
     "execution_count": 13,
     "metadata": {},
     "output_type": "execute_result"
    },
    {
     "data": {
      "text/plain": [
       "<AxesSubplot:>"
      ]
     },
     "execution_count": 13,
     "metadata": {},
     "output_type": "execute_result"
    },
    {
     "data": {
      "text/plain": [
       "Text(0.5, 1.0, 'Box plot for total_passengers_2015')"
      ]
     },
     "execution_count": 13,
     "metadata": {},
     "output_type": "execute_result"
    },
    {
     "data": {
      "image/png": "[encoded data removed]",
      "text/plain": [
       "<Figure size 720x360 with 1 Axes>"
      ]
     },
     "metadata": {
      "needs_background": "light"
     },
     "output_type": "display_data"
    },
    {
     "data": {
      "text/plain": [
       "<Figure size 720x360 with 0 Axes>"
      ]
     },
     "execution_count": 13,
     "metadata": {},
     "output_type": "execute_result"
    },
    {
     "data": {
      "text/plain": [
       "<AxesSubplot:>"
      ]
     },
     "execution_count": 13,
     "metadata": {},
     "output_type": "execute_result"
    },
    {
     "data": {
      "text/plain": [
       "Text(0.5, 1.0, 'Box plot for total_passengers_and_non_passengers_2015')"
      ]
     },
     "execution_count": 13,
     "metadata": {},
     "output_type": "execute_result"
    },
    {
     "data": {
      "image/png": "[encoded data removed]",
      "text/plain": [
       "<Figure size 720x360 with 1 Axes>"
      ]
     },
     "metadata": {
      "needs_background": "light"
     },
     "output_type": "display_data"
    },
    {
     "data": {
      "text/plain": [
       "<Figure size 720x360 with 0 Axes>"
      ]
     },
     "execution_count": 13,
     "metadata": {},
     "output_type": "execute_result"
    },
    {
     "data": {
      "text/plain": [
       "<AxesSubplot:>"
      ]
     },
     "execution_count": 13,
     "metadata": {},
     "output_type": "execute_result"
    },
    {
     "data": {
      "text/plain": [
       "Text(0.5, 1.0, 'Box plot for sum_municipal_population_2021')"
      ]
     },
     "execution_count": 13,
     "metadata": {},
     "output_type": "execute_result"
    },
    {
     "data": {
      "image/png": "[encoded data removed]",
      "text/plain": [
       "<Figure size 720x360 with 1 Axes>"
      ]
     },
     "metadata": {
      "needs_background": "light"
     },
     "output_type": "display_data"
    },
    {
     "data": {
      "text/plain": [
       "<Figure size 720x360 with 0 Axes>"
      ]
     },
     "execution_count": 13,
     "metadata": {},
     "output_type": "execute_result"
    },
    {
     "data": {
      "text/plain": [
       "<AxesSubplot:>"
      ]
     },
     "execution_count": 13,
     "metadata": {},
     "output_type": "execute_result"
    },
    {
     "data": {
      "text/plain": [
       "Text(0.5, 1.0, 'Box plot for non_scholarized_15_years_old_or_more_2020')"
      ]
     },
     "execution_count": 13,
     "metadata": {},
     "output_type": "execute_result"
    },
    {
     "data": {
      "image/png": "[encoded data removed]",
      "text/plain": [
       "<Figure size 720x360 with 1 Axes>"
      ]
     },
     "metadata": {
      "needs_background": "light"
     },
     "output_type": "display_data"
    },
    {
     "data": {
      "text/plain": [
       "<Figure size 720x360 with 0 Axes>"
      ]
     },
     "execution_count": 13,
     "metadata": {},
     "output_type": "execute_result"
    },
    {
     "data": {
      "text/plain": [
       "<AxesSubplot:>"
      ]
     },
     "execution_count": 13,
     "metadata": {},
     "output_type": "execute_result"
    },
    {
     "data": {
      "text/plain": [
       "Text(0.5, 1.0, 'Box plot for main_residences_2020')"
      ]
     },
     "execution_count": 13,
     "metadata": {},
     "output_type": "execute_result"
    },
    {
     "data": {
      "image/png": "[encoded data removed]",
      "text/plain": [
       "<Figure size 720x360 with 1 Axes>"
      ]
     },
     "metadata": {
      "needs_background": "light"
     },
     "output_type": "display_data"
    },
    {
     "data": {
      "text/plain": [
       "<Figure size 720x360 with 0 Axes>"
      ]
     },
     "execution_count": 13,
     "metadata": {},
     "output_type": "execute_result"
    },
    {
     "data": {
      "text/plain": [
       "<AxesSubplot:>"
      ]
     },
     "execution_count": 13,
     "metadata": {},
     "output_type": "execute_result"
    },
    {
     "data": {
      "text/plain": [
       "Text(0.5, 1.0, 'Box plot for housing_2020')"
      ]
     },
     "execution_count": 13,
     "metadata": {},
     "output_type": "execute_result"
    },
    {
     "data": {
      "image/png": "[encoded data removed]",
      "text/plain": [
       "<Figure size 720x360 with 1 Axes>"
      ]
     },
     "metadata": {
      "needs_background": "light"
     },
     "output_type": "display_data"
    },
    {
     "data": {
      "text/plain": [
       "<Figure size 720x360 with 0 Axes>"
      ]
     },
     "execution_count": 13,
     "metadata": {},
     "output_type": "execute_result"
    },
    {
     "data": {
      "text/plain": [
       "<AxesSubplot:>"
      ]
     },
     "execution_count": 13,
     "metadata": {},
     "output_type": "execute_result"
    },
    {
     "data": {
      "text/plain": [
       "Text(0.5, 1.0, 'Box plot for jobs_at_workplace_2020')"
      ]
     },
     "execution_count": 13,
     "metadata": {},
     "output_type": "execute_result"
    },
    {
     "data": {
      "image/png": "[encoded data removed]",
      "text/plain": [
       "<Figure size 720x360 with 1 Axes>"
      ]
     },
     "metadata": {
      "needs_background": "light"
     },
     "output_type": "display_data"
    },
    {
     "data": {
      "text/plain": [
       "<Figure size 720x360 with 0 Axes>"
      ]
     },
     "execution_count": 13,
     "metadata": {},
     "output_type": "execute_result"
    },
    {
     "data": {
      "text/plain": [
       "<AxesSubplot:>"
      ]
     },
     "execution_count": 13,
     "metadata": {},
     "output_type": "execute_result"
    },
    {
     "data": {
      "text/plain": [
       "Text(0.5, 1.0, 'Box plot for hotels_2024_sum')"
      ]
     },
     "execution_count": 13,
     "metadata": {},
     "output_type": "execute_result"
    },
    {
     "data": {
      "image/png": "[encoded data removed]",
      "text/plain": [
       "<Figure size 720x360 with 1 Axes>"
      ]
     },
     "metadata": {
      "needs_background": "light"
     },
     "output_type": "display_data"
    },
    {
     "data": {
      "text/plain": [
       "<Figure size 720x360 with 0 Axes>"
      ]
     },
     "execution_count": 13,
     "metadata": {},
     "output_type": "execute_result"
    },
    {
     "data": {
      "text/plain": [
       "<AxesSubplot:>"
      ]
     },
     "execution_count": 13,
     "metadata": {},
     "output_type": "execute_result"
    },
    {
     "data": {
      "text/plain": [
       "Text(0.5, 1.0, 'Box plot for camping_sites_2024_sum')"
      ]
     },
     "execution_count": 13,
     "metadata": {},
     "output_type": "execute_result"
    },
    {
     "data": {
      "image/png": "[encoded data removed]",
      "text/plain": [
       "<Figure size 720x360 with 1 Axes>"
      ]
     },
     "metadata": {
      "needs_background": "light"
     },
     "output_type": "display_data"
    },
    {
     "data": {
      "text/plain": [
       "<Figure size 720x360 with 0 Axes>"
      ]
     },
     "execution_count": 13,
     "metadata": {},
     "output_type": "execute_result"
    },
    {
     "data": {
      "text/plain": [
       "<AxesSubplot:>"
      ]
     },
     "execution_count": 13,
     "metadata": {},
     "output_type": "execute_result"
    },
    {
     "data": {
      "text/plain": [
       "Text(0.5, 1.0, 'Box plot for other_tourist_accommodations_2024_sum')"
      ]
     },
     "execution_count": 13,
     "metadata": {},
     "output_type": "execute_result"
    },
    {
     "data": {
      "image/png": "[encoded data removed]",
      "text/plain": [
       "<Figure size 720x360 with 1 Axes>"
      ]
     },
     "metadata": {
      "needs_background": "light"
     },
     "output_type": "display_data"
    }
   ],
   "source": [
    "numerical_columns = [\n",
    "    'total_passengers_2022',\n",
    "    'total_passengers_and_non_passengers_2022',\n",
    "    'total_passengers_2015',\n",
    "    'total_passengers_and_non_passengers_2015',\n",
    "    'sum_municipal_population_2021',\n",
    "    'non_scholarized_15_years_old_or_more_2020',\n",
    "    'main_residences_2020',\n",
    "    'housing_2020',\n",
    "    'jobs_at_workplace_2020',\n",
    "    'hotels_2024_sum',\n",
    "    'camping_sites_2024_sum',\n",
    "    'other_tourist_accommodations_2024_sum'\n",
    "]\n",
    "\n",
    "# Box plots for numerical variables\n",
    "for col in numerical_columns:\n",
    "    plt.figure(figsize=(10, 5))\n",
    "    dataRead.boxplot(column=[col])\n",
    "    plt.title(f'Box plot for {col}')\n",
    "    plt.show()"
   ]
  },
  {
   "cell_type": "code",
   "execution_count": 14,
   "metadata": {},
   "outputs": [
    {
     "data": {
      "image/png": "[encoded data removed]",
      "text/plain": [
       "<Figure size 648x360 with 2 Axes>"
      ]
     },
     "metadata": {
      "needs_background": "light"
     },
     "output_type": "display_data"
    }
   ],
   "source": [
    "fig, axes= plt.subplots(1,2, gridspec_kw={'width_ratios': [1, 4]}, figsize=(9,5))\n",
    "dataRead.boxplot(column='total_passengers_2022',ax=axes[0]);\n",
    "dataRead.hist(column='total_passengers_2022', ax=axes[1]);"
   ]
  },
  {
   "cell_type": "code",
   "execution_count": 15,
   "metadata": {},
   "outputs": [
    {
     "data": {
      "image/png": "[encoded data removed]",
      "text/plain": [
       "<Figure size 648x360 with 2 Axes>"
      ]
     },
     "metadata": {
      "needs_background": "light"
     },
     "output_type": "display_data"
    }
   ],
   "source": [
    "Q1 = dataRead['total_passengers_2022'].quantile(0.25)\n",
    "Q3 = dataRead['total_passengers_2022'].quantile(0.75)\n",
    "IQR = Q3 - Q1\n",
    "\n",
    "Q1, Q3, IQR\n",
    "\n",
    "small_outliers = dataRead['total_passengers_2022'] < (Q1 - 1.5 * IQR)\n",
    "big_outliers = dataRead['total_passengers_2022'] > (Q3 + 1.5 * IQR)\n",
    "\n",
    "sum(small_outliers), sum(big_outliers)\n",
    "\n",
    "dataRead['total_passengers_2022'][small_outliers | big_outliers].head()\n",
    "fig, axes= plt.subplots(1,2, gridspec_kw={'width_ratios': [1, 4]}, figsize=(9,5))\n",
    "dataRead[~(small_outliers | big_outliers)].boxplot(column='total_passengers_2022',ax=axes[0]);\n",
    "dataRead[~(small_outliers | big_outliers)].hist(column='total_passengers_2022', ax=axes[1]);"
   ]
  },
  {
   "cell_type": "markdown",
   "metadata": {},
   "source": [
    "***\n",
    "## SECTION 5: TREATMENT OF MIXED DATA TYPES\n",
    "\n",
    "\n",
    " In this case we have decided to keep the original type and leave the decision for later, depending on the specific analysis\n",
    "\n",
    " we explicitly declare categorical variables as such"
   ]
  },
  {
   "cell_type": "code",
   "execution_count": 16,
   "metadata": {},
   "outputs": [
    {
     "data": {
      "text/plain": [
       "city_name                                     object\n",
       "drg_segment                                   object\n",
       "total_passengers_2022                        float64\n",
       "total_passengers_and_non_passengers_2022     float64\n",
       "total_passengers_2015                        float64\n",
       "total_passengers_and_non_passengers_2015     float64\n",
       "wifi_service                                   int64\n",
       "city_label                                    object\n",
       "city_attraction_area                          object\n",
       "city_category_in_attraction_area_2020          int64\n",
       "department                                     int64\n",
       "region                                         int64\n",
       "sum_municipal_population_2021                  int64\n",
       "non_scholarized_15_years_old_or_more_2020      int64\n",
       "main_residences_2020                           int64\n",
       "housing_2020                                   int64\n",
       "jobs_at_workplace_2020                         int64\n",
       "hotels_2024_sum                                int64\n",
       "camping_sites_2024_sum                         int64\n",
       "other_tourist_accommodations_2024_sum          int64\n",
       "latitude                                      object\n",
       "longitude                                     object\n",
       "dtype: object"
      ]
     },
     "execution_count": 16,
     "metadata": {},
     "output_type": "execute_result"
    }
   ],
   "source": [
    "dataRead.dtypes"
   ]
  },
  {
   "cell_type": "markdown",
   "metadata": {},
   "source": [
    "## SECTION 6: DERIVATION OF NEW VARIABLES: FEATURE EXTRACTION\n",
    "\n",
    " We decide whether it can be sensible to derive new variables"
   ]
  },
  {
   "cell_type": "code",
   "execution_count": 17,
   "metadata": {},
   "outputs": [
    {
     "data": {
      "text/plain": [
       "<AxesSubplot:>"
      ]
     },
     "execution_count": 17,
     "metadata": {},
     "output_type": "execute_result"
    },
    {
     "data": {
      "image/png": "[encoded data removed]",
      "text/plain": [
       "<Figure size 576x576 with 1 Axes>"
      ]
     },
     "metadata": {
      "needs_background": "light"
     },
     "output_type": "display_data"
    }
   ],
   "source": [
    "# 1. Passenger Growth Rate\n",
    "dataRead['passenger_growth_rate'] = (dataRead['total_passengers_2022'] - dataRead['total_passengers_2015']) / dataRead['total_passengers_2015']\n",
    "dataRead['passenger_growth_rate'].hist(figsize=(8, 8))"
   ]
  },
  {
   "cell_type": "code",
   "execution_count": 18,
   "metadata": {},
   "outputs": [
    {
     "data": {
      "text/plain": [
       "<AxesSubplot:>"
      ]
     },
     "execution_count": 18,
     "metadata": {},
     "output_type": "execute_result"
    },
    {
     "data": {
      "image/png": "[encoded data removed]",
      "text/plain": [
       "<Figure size 576x576 with 1 Axes>"
      ]
     },
     "metadata": {
      "needs_background": "light"
     },
     "output_type": "display_data"
    }
   ],
   "source": [
    "# 2. Attraction Density\n",
    "dataRead['attraction_density'] = (dataRead['hotels_2024_sum'] + dataRead['camping_sites_2024_sum'] + dataRead['other_tourist_accommodations_2024_sum']) / dataRead['sum_municipal_population_2021']\n",
    "dataRead['attraction_density'].hist(bins=16, figsize=(8, 8))"
   ]
  },
  {
   "cell_type": "code",
   "execution_count": 19,
   "metadata": {},
   "outputs": [
    {
     "data": {
      "text/html": [
       "<div>\n",
       "<style scoped>\n",
       "    .dataframe tbody tr th:only-of-type {\n",
       "        vertical-align: middle;\n",
       "    }\n",
       "\n",
       "    .dataframe tbody tr th {\n",
       "        vertical-align: top;\n",
       "    }\n",
       "\n",
       "    .dataframe thead th {\n",
       "        text-align: right;\n",
       "    }\n",
       "</style>\n",
       "<table border=\"1\" class=\"dataframe\">\n",
       "  <thead>\n",
       "    <tr style=\"text-align: right;\">\n",
       "      <th>city_size_category</th>\n",
       "      <th>Large</th>\n",
       "      <th>Medium</th>\n",
       "      <th>Small</th>\n",
       "    </tr>\n",
       "    <tr>\n",
       "      <th>Dubious</th>\n",
       "      <th></th>\n",
       "      <th></th>\n",
       "      <th></th>\n",
       "    </tr>\n",
       "  </thead>\n",
       "  <tbody>\n",
       "    <tr>\n",
       "      <th>No</th>\n",
       "      <td>863</td>\n",
       "      <td>211</td>\n",
       "      <td>213</td>\n",
       "    </tr>\n",
       "    <tr>\n",
       "      <th>Yes</th>\n",
       "      <td>480</td>\n",
       "      <td>211</td>\n",
       "      <td>248</td>\n",
       "    </tr>\n",
       "  </tbody>\n",
       "</table>\n",
       "</div>"
      ],
      "text/plain": [
       "city_size_category  Large  Medium  Small\n",
       "Dubious                                 \n",
       "No                    863     211    213\n",
       "Yes                   480     211    248"
      ]
     },
     "execution_count": 19,
     "metadata": {},
     "output_type": "execute_result"
    },
    {
     "data": {
      "text/html": [
       "<div>\n",
       "<style scoped>\n",
       "    .dataframe tbody tr th:only-of-type {\n",
       "        vertical-align: middle;\n",
       "    }\n",
       "\n",
       "    .dataframe tbody tr th {\n",
       "        vertical-align: top;\n",
       "    }\n",
       "\n",
       "    .dataframe thead th {\n",
       "        text-align: right;\n",
       "    }\n",
       "</style>\n",
       "<table border=\"1\" class=\"dataframe\">\n",
       "  <thead>\n",
       "    <tr style=\"text-align: right;\">\n",
       "      <th></th>\n",
       "      <th>passenger_growth_rate</th>\n",
       "      <th>attraction_density</th>\n",
       "      <th>city_size_category</th>\n",
       "      <th>Dubious</th>\n",
       "    </tr>\n",
       "  </thead>\n",
       "  <tbody>\n",
       "    <tr>\n",
       "      <th>0</th>\n",
       "      <td>0.801</td>\n",
       "      <td>1.366e-03</td>\n",
       "      <td>Large</td>\n",
       "      <td>No</td>\n",
       "    </tr>\n",
       "    <tr>\n",
       "      <th>1</th>\n",
       "      <td>0.134</td>\n",
       "      <td>1.686e-04</td>\n",
       "      <td>Large</td>\n",
       "      <td>No</td>\n",
       "    </tr>\n",
       "    <tr>\n",
       "      <th>2</th>\n",
       "      <td>0.110</td>\n",
       "      <td>3.321e-04</td>\n",
       "      <td>Medium</td>\n",
       "      <td>No</td>\n",
       "    </tr>\n",
       "    <tr>\n",
       "      <th>3</th>\n",
       "      <td>-0.265</td>\n",
       "      <td>2.198e-04</td>\n",
       "      <td>Large</td>\n",
       "      <td>No</td>\n",
       "    </tr>\n",
       "    <tr>\n",
       "      <th>4</th>\n",
       "      <td>0.075</td>\n",
       "      <td>2.198e-04</td>\n",
       "      <td>Large</td>\n",
       "      <td>No</td>\n",
       "    </tr>\n",
       "  </tbody>\n",
       "</table>\n",
       "</div>"
      ],
      "text/plain": [
       "   passenger_growth_rate  attraction_density city_size_category Dubious\n",
       "0                  0.801           1.366e-03              Large      No\n",
       "1                  0.134           1.686e-04              Large      No\n",
       "2                  0.110           3.321e-04             Medium      No\n",
       "3                 -0.265           2.198e-04              Large      No\n",
       "4                  0.075           2.198e-04              Large      No"
      ]
     },
     "execution_count": 19,
     "metadata": {},
     "output_type": "execute_result"
    }
   ],
   "source": [
    "# 3. City Size Category\n",
    "def categorize_city_size(population):\n",
    "    if population < 50000:\n",
    "        return 'Small'\n",
    "    elif 50000 <= population < 200000:\n",
    "        return 'Medium'\n",
    "    else:\n",
    "        return 'Large'\n",
    "\n",
    "dataRead['city_size_category'] = dataRead['sum_municipal_population_2021'].apply(categorize_city_size)\n",
    "\n",
    "# Mark dubious cities based on passenger growth rate and municipal population\n",
    "dataRead['Dubious'] = ['No'] * dataRead.shape[0]\n",
    "dataRead.loc[\n",
    "    (dataRead['passenger_growth_rate'] > dataRead['passenger_growth_rate'].median(skipna=True)) &\n",
    "    (dataRead['sum_municipal_population_2021'] < 1.25 * dataRead['sum_municipal_population_2021'].mean(skipna=True)), \n",
    "    'Dubious'\n",
    "] = \"Yes\"\n",
    "\n",
    "# Crosstab of Dubious and city_size_category\n",
    "dubious_crosstab = pd.crosstab(dataRead['Dubious'], dataRead['city_size_category'])\n",
    "dubious_crosstab\n",
    "dataRead[['passenger_growth_rate', 'attraction_density', 'city_size_category', 'Dubious']].head()\n"
   ]
  },
  {
   "cell_type": "markdown",
   "metadata": {},
   "source": [
    "***\n",
    "## SECTION 7: WHAT WE HAVE DONE SO FAR\n",
    "\n",
    "\n",
    " Create a new dataframe that gathers everything and inspect it again"
   ]
  },
  {
   "cell_type": "code",
   "execution_count": 20,
   "metadata": {},
   "outputs": [
    {
     "data": {
      "text/html": [
       "<div>\n",
       "<style scoped>\n",
       "    .dataframe tbody tr th:only-of-type {\n",
       "        vertical-align: middle;\n",
       "    }\n",
       "\n",
       "    .dataframe tbody tr th {\n",
       "        vertical-align: top;\n",
       "    }\n",
       "\n",
       "    .dataframe thead th {\n",
       "        text-align: right;\n",
       "    }\n",
       "</style>\n",
       "<table border=\"1\" class=\"dataframe\">\n",
       "  <thead>\n",
       "    <tr style=\"text-align: right;\">\n",
       "      <th></th>\n",
       "      <th>city_name</th>\n",
       "      <th>drg_segment</th>\n",
       "      <th>total_passengers_2022</th>\n",
       "      <th>total_passengers_and_non_passengers_2022</th>\n",
       "      <th>total_passengers_2015</th>\n",
       "      <th>total_passengers_and_non_passengers_2015</th>\n",
       "      <th>wifi_service</th>\n",
       "      <th>city_label</th>\n",
       "      <th>city_attraction_area</th>\n",
       "      <th>city_category_in_attraction_area_2020</th>\n",
       "      <th>...</th>\n",
       "      <th>jobs_at_workplace_2020</th>\n",
       "      <th>hotels_2024_sum</th>\n",
       "      <th>camping_sites_2024_sum</th>\n",
       "      <th>other_tourist_accommodations_2024_sum</th>\n",
       "      <th>latitude</th>\n",
       "      <th>longitude</th>\n",
       "      <th>passenger_growth_rate</th>\n",
       "      <th>attraction_density</th>\n",
       "      <th>city_size_category</th>\n",
       "      <th>Dubious</th>\n",
       "    </tr>\n",
       "  </thead>\n",
       "  <tbody>\n",
       "    <tr>\n",
       "      <th>count</th>\n",
       "      <td>2226</td>\n",
       "      <td>2226</td>\n",
       "      <td>2.226e+03</td>\n",
       "      <td>2.226e+03</td>\n",
       "      <td>2.226e+03</td>\n",
       "      <td>2.226e+03</td>\n",
       "      <td>2226.000</td>\n",
       "      <td>2226</td>\n",
       "      <td>2226</td>\n",
       "      <td>2226.000</td>\n",
       "      <td>...</td>\n",
       "      <td>2.226e+03</td>\n",
       "      <td>2226.000</td>\n",
       "      <td>2226.000</td>\n",
       "      <td>2226.000</td>\n",
       "      <td>2226</td>\n",
       "      <td>2226</td>\n",
       "      <td>2226.000</td>\n",
       "      <td>2.226e+03</td>\n",
       "      <td>2226</td>\n",
       "      <td>2226</td>\n",
       "    </tr>\n",
       "    <tr>\n",
       "      <th>unique</th>\n",
       "      <td>2226</td>\n",
       "      <td>3</td>\n",
       "      <td>NaN</td>\n",
       "      <td>NaN</td>\n",
       "      <td>NaN</td>\n",
       "      <td>NaN</td>\n",
       "      <td>NaN</td>\n",
       "      <td>2034</td>\n",
       "      <td>394</td>\n",
       "      <td>NaN</td>\n",
       "      <td>...</td>\n",
       "      <td>NaN</td>\n",
       "      <td>NaN</td>\n",
       "      <td>NaN</td>\n",
       "      <td>NaN</td>\n",
       "      <td>2226</td>\n",
       "      <td>2226</td>\n",
       "      <td>NaN</td>\n",
       "      <td>NaN</td>\n",
       "      <td>3</td>\n",
       "      <td>2</td>\n",
       "    </tr>\n",
       "    <tr>\n",
       "      <th>top</th>\n",
       "      <td>Abancourt</td>\n",
       "      <td>C</td>\n",
       "      <td>NaN</td>\n",
       "      <td>NaN</td>\n",
       "      <td>NaN</td>\n",
       "      <td>NaN</td>\n",
       "      <td>NaN</td>\n",
       "      <td>Toulouse</td>\n",
       "      <td>000</td>\n",
       "      <td>NaN</td>\n",
       "      <td>...</td>\n",
       "      <td>NaN</td>\n",
       "      <td>NaN</td>\n",
       "      <td>NaN</td>\n",
       "      <td>NaN</td>\n",
       "      <td>49.6852237</td>\n",
       "      <td>1.7743058</td>\n",
       "      <td>NaN</td>\n",
       "      <td>NaN</td>\n",
       "      <td>Large</td>\n",
       "      <td>No</td>\n",
       "    </tr>\n",
       "    <tr>\n",
       "      <th>freq</th>\n",
       "      <td>1</td>\n",
       "      <td>1534</td>\n",
       "      <td>NaN</td>\n",
       "      <td>NaN</td>\n",
       "      <td>NaN</td>\n",
       "      <td>NaN</td>\n",
       "      <td>NaN</td>\n",
       "      <td>11</td>\n",
       "      <td>237</td>\n",
       "      <td>NaN</td>\n",
       "      <td>...</td>\n",
       "      <td>NaN</td>\n",
       "      <td>NaN</td>\n",
       "      <td>NaN</td>\n",
       "      <td>NaN</td>\n",
       "      <td>1</td>\n",
       "      <td>1</td>\n",
       "      <td>NaN</td>\n",
       "      <td>NaN</td>\n",
       "      <td>1343</td>\n",
       "      <td>1287</td>\n",
       "    </tr>\n",
       "    <tr>\n",
       "      <th>mean</th>\n",
       "      <td>NaN</td>\n",
       "      <td>NaN</td>\n",
       "      <td>3.931e+05</td>\n",
       "      <td>4.623e+05</td>\n",
       "      <td>3.676e+05</td>\n",
       "      <td>4.274e+05</td>\n",
       "      <td>0.054</td>\n",
       "      <td>NaN</td>\n",
       "      <td>NaN</td>\n",
       "      <td>18.538</td>\n",
       "      <td>...</td>\n",
       "      <td>8.171e+05</td>\n",
       "      <td>553.148</td>\n",
       "      <td>291.112</td>\n",
       "      <td>139.640</td>\n",
       "      <td>NaN</td>\n",
       "      <td>NaN</td>\n",
       "      <td>0.854</td>\n",
       "      <td>5.634e-04</td>\n",
       "      <td>NaN</td>\n",
       "      <td>NaN</td>\n",
       "    </tr>\n",
       "    <tr>\n",
       "      <th>std</th>\n",
       "      <td>NaN</td>\n",
       "      <td>NaN</td>\n",
       "      <td>1.445e+06</td>\n",
       "      <td>1.744e+06</td>\n",
       "      <td>1.368e+06</td>\n",
       "      <td>1.589e+06</td>\n",
       "      <td>0.226</td>\n",
       "      <td>NaN</td>\n",
       "      <td>NaN</td>\n",
       "      <td>5.515</td>\n",
       "      <td>...</td>\n",
       "      <td>1.668e+06</td>\n",
       "      <td>980.067</td>\n",
       "      <td>771.041</td>\n",
       "      <td>306.537</td>\n",
       "      <td>NaN</td>\n",
       "      <td>NaN</td>\n",
       "      <td>11.692</td>\n",
       "      <td>8.418e-04</td>\n",
       "      <td>NaN</td>\n",
       "      <td>NaN</td>\n",
       "    </tr>\n",
       "    <tr>\n",
       "      <th>min</th>\n",
       "      <td>NaN</td>\n",
       "      <td>NaN</td>\n",
       "      <td>1.000e+00</td>\n",
       "      <td>1.000e+00</td>\n",
       "      <td>1.000e+00</td>\n",
       "      <td>1.000e+00</td>\n",
       "      <td>0.000</td>\n",
       "      <td>NaN</td>\n",
       "      <td>NaN</td>\n",
       "      <td>11.000</td>\n",
       "      <td>...</td>\n",
       "      <td>1.524e+03</td>\n",
       "      <td>0.000</td>\n",
       "      <td>0.000</td>\n",
       "      <td>0.000</td>\n",
       "      <td>NaN</td>\n",
       "      <td>NaN</td>\n",
       "      <td>-1.000</td>\n",
       "      <td>0.000e+00</td>\n",
       "      <td>NaN</td>\n",
       "      <td>NaN</td>\n",
       "    </tr>\n",
       "    <tr>\n",
       "      <th>25%</th>\n",
       "      <td>NaN</td>\n",
       "      <td>NaN</td>\n",
       "      <td>1.159e+04</td>\n",
       "      <td>1.159e+04</td>\n",
       "      <td>9.682e+03</td>\n",
       "      <td>9.682e+03</td>\n",
       "      <td>0.000</td>\n",
       "      <td>NaN</td>\n",
       "      <td>NaN</td>\n",
       "      <td>12.000</td>\n",
       "      <td>...</td>\n",
       "      <td>2.851e+04</td>\n",
       "      <td>18.000</td>\n",
       "      <td>6.000</td>\n",
       "      <td>2.000</td>\n",
       "      <td>NaN</td>\n",
       "      <td>NaN</td>\n",
       "      <td>-0.114</td>\n",
       "      <td>1.982e-04</td>\n",
       "      <td>NaN</td>\n",
       "      <td>NaN</td>\n",
       "    </tr>\n",
       "    <tr>\n",
       "      <th>50%</th>\n",
       "      <td>NaN</td>\n",
       "      <td>NaN</td>\n",
       "      <td>5.125e+04</td>\n",
       "      <td>5.175e+04</td>\n",
       "      <td>4.186e+04</td>\n",
       "      <td>4.186e+04</td>\n",
       "      <td>0.000</td>\n",
       "      <td>NaN</td>\n",
       "      <td>NaN</td>\n",
       "      <td>20.000</td>\n",
       "      <td>...</td>\n",
       "      <td>1.444e+05</td>\n",
       "      <td>66.000</td>\n",
       "      <td>17.000</td>\n",
       "      <td>9.000</td>\n",
       "      <td>NaN</td>\n",
       "      <td>NaN</td>\n",
       "      <td>0.157</td>\n",
       "      <td>2.762e-04</td>\n",
       "      <td>NaN</td>\n",
       "      <td>NaN</td>\n",
       "    </tr>\n",
       "    <tr>\n",
       "      <th>75%</th>\n",
       "      <td>NaN</td>\n",
       "      <td>NaN</td>\n",
       "      <td>1.947e+05</td>\n",
       "      <td>2.395e+05</td>\n",
       "      <td>1.756e+05</td>\n",
       "      <td>2.150e+05</td>\n",
       "      <td>0.000</td>\n",
       "      <td>NaN</td>\n",
       "      <td>NaN</td>\n",
       "      <td>20.000</td>\n",
       "      <td>...</td>\n",
       "      <td>6.685e+05</td>\n",
       "      <td>238.000</td>\n",
       "      <td>51.000</td>\n",
       "      <td>54.000</td>\n",
       "      <td>NaN</td>\n",
       "      <td>NaN</td>\n",
       "      <td>0.513</td>\n",
       "      <td>5.412e-04</td>\n",
       "      <td>NaN</td>\n",
       "      <td>NaN</td>\n",
       "    </tr>\n",
       "    <tr>\n",
       "      <th>max</th>\n",
       "      <td>NaN</td>\n",
       "      <td>NaN</td>\n",
       "      <td>2.199e+07</td>\n",
       "      <td>2.784e+07</td>\n",
       "      <td>2.419e+07</td>\n",
       "      <td>2.419e+07</td>\n",
       "      <td>1.000</td>\n",
       "      <td>NaN</td>\n",
       "      <td>NaN</td>\n",
       "      <td>30.000</td>\n",
       "      <td>...</td>\n",
       "      <td>6.067e+06</td>\n",
       "      <td>2555.000</td>\n",
       "      <td>2523.000</td>\n",
       "      <td>1005.000</td>\n",
       "      <td>NaN</td>\n",
       "      <td>NaN</td>\n",
       "      <td>517.462</td>\n",
       "      <td>7.150e-03</td>\n",
       "      <td>NaN</td>\n",
       "      <td>NaN</td>\n",
       "    </tr>\n",
       "  </tbody>\n",
       "</table>\n",
       "<p>11 rows × 26 columns</p>\n",
       "</div>"
      ],
      "text/plain": [
       "        city_name drg_segment  total_passengers_2022  \\\n",
       "count        2226        2226              2.226e+03   \n",
       "unique       2226           3                    NaN   \n",
       "top     Abancourt           C                    NaN   \n",
       "freq            1        1534                    NaN   \n",
       "mean          NaN         NaN              3.931e+05   \n",
       "std           NaN         NaN              1.445e+06   \n",
       "min           NaN         NaN              1.000e+00   \n",
       "25%           NaN         NaN              1.159e+04   \n",
       "50%           NaN         NaN              5.125e+04   \n",
       "75%           NaN         NaN              1.947e+05   \n",
       "max           NaN         NaN              2.199e+07   \n",
       "\n",
       "        total_passengers_and_non_passengers_2022  total_passengers_2015  \\\n",
       "count                                  2.226e+03              2.226e+03   \n",
       "unique                                       NaN                    NaN   \n",
       "top                                          NaN                    NaN   \n",
       "freq                                         NaN                    NaN   \n",
       "mean                                   4.623e+05              3.676e+05   \n",
       "std                                    1.744e+06              1.368e+06   \n",
       "min                                    1.000e+00              1.000e+00   \n",
       "25%                                    1.159e+04              9.682e+03   \n",
       "50%                                    5.175e+04              4.186e+04   \n",
       "75%                                    2.395e+05              1.756e+05   \n",
       "max                                    2.784e+07              2.419e+07   \n",
       "\n",
       "        total_passengers_and_non_passengers_2015  wifi_service city_label  \\\n",
       "count                                  2.226e+03      2226.000       2226   \n",
       "unique                                       NaN           NaN       2034   \n",
       "top                                          NaN           NaN   Toulouse   \n",
       "freq                                         NaN           NaN         11   \n",
       "mean                                   4.274e+05         0.054        NaN   \n",
       "std                                    1.589e+06         0.226        NaN   \n",
       "min                                    1.000e+00         0.000        NaN   \n",
       "25%                                    9.682e+03         0.000        NaN   \n",
       "50%                                    4.186e+04         0.000        NaN   \n",
       "75%                                    2.150e+05         0.000        NaN   \n",
       "max                                    2.419e+07         1.000        NaN   \n",
       "\n",
       "       city_attraction_area  city_category_in_attraction_area_2020  ...  \\\n",
       "count                  2226                               2226.000  ...   \n",
       "unique                  394                                    NaN  ...   \n",
       "top                     000                                    NaN  ...   \n",
       "freq                    237                                    NaN  ...   \n",
       "mean                    NaN                                 18.538  ...   \n",
       "std                     NaN                                  5.515  ...   \n",
       "min                     NaN                                 11.000  ...   \n",
       "25%                     NaN                                 12.000  ...   \n",
       "50%                     NaN                                 20.000  ...   \n",
       "75%                     NaN                                 20.000  ...   \n",
       "max                     NaN                                 30.000  ...   \n",
       "\n",
       "        jobs_at_workplace_2020  hotels_2024_sum  camping_sites_2024_sum  \\\n",
       "count                2.226e+03         2226.000                2226.000   \n",
       "unique                     NaN              NaN                     NaN   \n",
       "top                        NaN              NaN                     NaN   \n",
       "freq                       NaN              NaN                     NaN   \n",
       "mean                 8.171e+05          553.148                 291.112   \n",
       "std                  1.668e+06          980.067                 771.041   \n",
       "min                  1.524e+03            0.000                   0.000   \n",
       "25%                  2.851e+04           18.000                   6.000   \n",
       "50%                  1.444e+05           66.000                  17.000   \n",
       "75%                  6.685e+05          238.000                  51.000   \n",
       "max                  6.067e+06         2555.000                2523.000   \n",
       "\n",
       "        other_tourist_accommodations_2024_sum    latitude   longitude  \\\n",
       "count                                2226.000        2226        2226   \n",
       "unique                                    NaN        2226        2226   \n",
       "top                                       NaN  49.6852237   1.7743058   \n",
       "freq                                      NaN           1           1   \n",
       "mean                                  139.640         NaN         NaN   \n",
       "std                                   306.537         NaN         NaN   \n",
       "min                                     0.000         NaN         NaN   \n",
       "25%                                     2.000         NaN         NaN   \n",
       "50%                                     9.000         NaN         NaN   \n",
       "75%                                    54.000         NaN         NaN   \n",
       "max                                  1005.000         NaN         NaN   \n",
       "\n",
       "        passenger_growth_rate  attraction_density  city_size_category  Dubious  \n",
       "count                2226.000           2.226e+03                2226     2226  \n",
       "unique                    NaN                 NaN                   3        2  \n",
       "top                       NaN                 NaN               Large       No  \n",
       "freq                      NaN                 NaN                1343     1287  \n",
       "mean                    0.854           5.634e-04                 NaN      NaN  \n",
       "std                    11.692           8.418e-04                 NaN      NaN  \n",
       "min                    -1.000           0.000e+00                 NaN      NaN  \n",
       "25%                    -0.114           1.982e-04                 NaN      NaN  \n",
       "50%                     0.157           2.762e-04                 NaN      NaN  \n",
       "75%                     0.513           5.412e-04                 NaN      NaN  \n",
       "max                   517.462           7.150e-03                 NaN      NaN  \n",
       "\n",
       "[11 rows x 26 columns]"
      ]
     },
     "execution_count": 20,
     "metadata": {},
     "output_type": "execute_result"
    },
    {
     "data": {
      "text/plain": [
       "(2226, 26)"
      ]
     },
     "execution_count": 20,
     "metadata": {},
     "output_type": "execute_result"
    }
   ],
   "source": [
    "dataRead_new =dataRead.copy()\n",
    "\n",
    "dataRead_new.describe(include='all')\n",
    "dataRead_new.shape"
   ]
  },
  {
   "cell_type": "markdown",
   "metadata": {},
   "source": [
    "***\n",
    "## SECTION 8: GAUSSIANITY AND TRANSFORMATIONS\n",
    "\n",
    "\n",
    "Performing a graphical summary of some of the variables helps understand their distributions, identify outliers, and assess the need for transformations to approximate a Gaussian (normal) distribution. This section covers histograms and boxplots for continuous variables, as well as bar charts for categorical variables."
   ]
  },
  {
   "cell_type": "code",
   "execution_count": 21,
   "metadata": {},
   "outputs": [
    {
     "data": {
      "text/plain": [
       "<Figure size 576x576 with 0 Axes>"
      ]
     },
     "execution_count": 21,
     "metadata": {},
     "output_type": "execute_result"
    },
    {
     "data": {
      "text/plain": [
       "(array([2.001e+03, 1.000e+02, 4.300e+01, 1.800e+01, 1.100e+01, 1.500e+01,\n",
       "        8.000e+00, 3.000e+00, 4.000e+00, 3.000e+00, 4.000e+00, 3.000e+00,\n",
       "        1.000e+00, 2.000e+00, 0.000e+00, 1.000e+00, 0.000e+00, 2.000e+00,\n",
       "        1.000e+00, 0.000e+00, 0.000e+00, 2.000e+00, 0.000e+00, 0.000e+00,\n",
       "        0.000e+00, 1.000e+00, 0.000e+00, 0.000e+00, 0.000e+00, 3.000e+00]),\n",
       " array([1.00000000e+00, 7.33099167e+05, 1.46619733e+06, 2.19929550e+06,\n",
       "        2.93239367e+06, 3.66549183e+06, 4.39859000e+06, 5.13168817e+06,\n",
       "        5.86478633e+06, 6.59788450e+06, 7.33098267e+06, 8.06408083e+06,\n",
       "        8.79717900e+06, 9.53027717e+06, 1.02633753e+07, 1.09964735e+07,\n",
       "        1.17295717e+07, 1.24626698e+07, 1.31957680e+07, 1.39288662e+07,\n",
       "        1.46619643e+07, 1.53950625e+07, 1.61281607e+07, 1.68612588e+07,\n",
       "        1.75943570e+07, 1.83274552e+07, 1.90605533e+07, 1.97936515e+07,\n",
       "        2.05267497e+07, 2.12598478e+07, 2.19929460e+07]),\n",
       " <BarContainer object of 30 artists>)"
      ]
     },
     "execution_count": 21,
     "metadata": {},
     "output_type": "execute_result"
    },
    {
     "data": {
      "text/plain": [
       "Text(0.5, 1.0, 'Histogram of total_passengers_2022')"
      ]
     },
     "execution_count": 21,
     "metadata": {},
     "output_type": "execute_result"
    },
    {
     "data": {
      "text/plain": [
       "Text(0.5, 0, 'total_passengers_2022')"
      ]
     },
     "execution_count": 21,
     "metadata": {},
     "output_type": "execute_result"
    },
    {
     "data": {
      "text/plain": [
       "Text(0, 0.5, 'Frequency')"
      ]
     },
     "execution_count": 21,
     "metadata": {},
     "output_type": "execute_result"
    },
    {
     "data": {
      "image/png": "[encoded data removed]",
      "text/plain": [
       "<Figure size 576x576 with 1 Axes>"
      ]
     },
     "metadata": {
      "needs_background": "light"
     },
     "output_type": "display_data"
    },
    {
     "data": {
      "text/plain": [
       "<Figure size 576x576 with 0 Axes>"
      ]
     },
     "execution_count": 21,
     "metadata": {},
     "output_type": "execute_result"
    },
    {
     "data": {
      "text/plain": [
       "(array([2.014e+03, 9.600e+01, 4.100e+01, 2.000e+01, 1.200e+01, 9.000e+00,\n",
       "        3.000e+00, 4.000e+00, 7.000e+00, 0.000e+00, 6.000e+00, 0.000e+00,\n",
       "        3.000e+00, 2.000e+00, 1.000e+00, 0.000e+00, 0.000e+00, 1.000e+00,\n",
       "        0.000e+00, 0.000e+00, 2.000e+00, 1.000e+00, 0.000e+00, 1.000e+00,\n",
       "        0.000e+00, 0.000e+00, 0.000e+00, 1.000e+00, 1.000e+00, 1.000e+00]),\n",
       " array([1.00000000e+00, 9.27973367e+05, 1.85594573e+06, 2.78391810e+06,\n",
       "        3.71189047e+06, 4.63986283e+06, 5.56783520e+06, 6.49580757e+06,\n",
       "        7.42377993e+06, 8.35175230e+06, 9.27972467e+06, 1.02076970e+07,\n",
       "        1.11356694e+07, 1.20636418e+07, 1.29916141e+07, 1.39195865e+07,\n",
       "        1.48475589e+07, 1.57755312e+07, 1.67035036e+07, 1.76314760e+07,\n",
       "        1.85594483e+07, 1.94874207e+07, 2.04153931e+07, 2.13433654e+07,\n",
       "        2.22713378e+07, 2.31993102e+07, 2.41272825e+07, 2.50552549e+07,\n",
       "        2.59832273e+07, 2.69111996e+07, 2.78391720e+07]),\n",
       " <BarContainer object of 30 artists>)"
      ]
     },
     "execution_count": 21,
     "metadata": {},
     "output_type": "execute_result"
    },
    {
     "data": {
      "text/plain": [
       "Text(0.5, 1.0, 'Histogram of total_passengers_and_non_passengers_2022')"
      ]
     },
     "execution_count": 21,
     "metadata": {},
     "output_type": "execute_result"
    },
    {
     "data": {
      "text/plain": [
       "Text(0.5, 0, 'total_passengers_and_non_passengers_2022')"
      ]
     },
     "execution_count": 21,
     "metadata": {},
     "output_type": "execute_result"
    },
    {
     "data": {
      "text/plain": [
       "Text(0, 0.5, 'Frequency')"
      ]
     },
     "execution_count": 21,
     "metadata": {},
     "output_type": "execute_result"
    },
    {
     "data": {
      "image/png": "[encoded data removed]",
      "text/plain": [
       "<Figure size 576x576 with 1 Axes>"
      ]
     },
     "metadata": {
      "needs_background": "light"
     },
     "output_type": "display_data"
    },
    {
     "data": {
      "text/plain": [
       "<Figure size 576x576 with 0 Axes>"
      ]
     },
     "execution_count": 21,
     "metadata": {},
     "output_type": "execute_result"
    },
    {
     "data": {
      "text/plain": [
       "(array([2.034e+03, 9.000e+01, 3.000e+01, 1.200e+01, 1.400e+01, 1.000e+01,\n",
       "        1.100e+01, 3.000e+00, 1.000e+00, 5.000e+00, 2.000e+00, 2.000e+00,\n",
       "        1.000e+00, 3.000e+00, 2.000e+00, 0.000e+00, 0.000e+00, 2.000e+00,\n",
       "        1.000e+00, 0.000e+00, 0.000e+00, 0.000e+00, 1.000e+00, 1.000e+00,\n",
       "        0.000e+00, 0.000e+00, 0.000e+00, 0.000e+00, 0.000e+00, 1.000e+00]),\n",
       " array([1.00000000e+00, 8.06377967e+05, 1.61275493e+06, 2.41913190e+06,\n",
       "        3.22550887e+06, 4.03188583e+06, 4.83826280e+06, 5.64463977e+06,\n",
       "        6.45101673e+06, 7.25739370e+06, 8.06377067e+06, 8.87014763e+06,\n",
       "        9.67652460e+06, 1.04829016e+07, 1.12892785e+07, 1.20956555e+07,\n",
       "        1.29020325e+07, 1.37084094e+07, 1.45147864e+07, 1.53211634e+07,\n",
       "        1.61275403e+07, 1.69339173e+07, 1.77402943e+07, 1.85466712e+07,\n",
       "        1.93530482e+07, 2.01594252e+07, 2.09658021e+07, 2.17721791e+07,\n",
       "        2.25785561e+07, 2.33849330e+07, 2.41913100e+07]),\n",
       " <BarContainer object of 30 artists>)"
      ]
     },
     "execution_count": 21,
     "metadata": {},
     "output_type": "execute_result"
    },
    {
     "data": {
      "text/plain": [
       "Text(0.5, 1.0, 'Histogram of total_passengers_2015')"
      ]
     },
     "execution_count": 21,
     "metadata": {},
     "output_type": "execute_result"
    },
    {
     "data": {
      "text/plain": [
       "Text(0.5, 0, 'total_passengers_2015')"
      ]
     },
     "execution_count": 21,
     "metadata": {},
     "output_type": "execute_result"
    },
    {
     "data": {
      "text/plain": [
       "Text(0, 0.5, 'Frequency')"
      ]
     },
     "execution_count": 21,
     "metadata": {},
     "output_type": "execute_result"
    },
    {
     "data": {
      "image/png": "[encoded data removed]",
      "text/plain": [
       "<Figure size 576x576 with 1 Axes>"
      ]
     },
     "metadata": {
      "needs_background": "light"
     },
     "output_type": "display_data"
    },
    {
     "data": {
      "text/plain": [
       "<Figure size 576x576 with 0 Axes>"
      ]
     },
     "execution_count": 21,
     "metadata": {},
     "output_type": "execute_result"
    },
    {
     "data": {
      "text/plain": [
       "(array([2.001e+03, 1.080e+02, 4.100e+01, 1.000e+01, 1.200e+01, 1.200e+01,\n",
       "        9.000e+00, 5.000e+00, 2.000e+00, 2.000e+00, 5.000e+00, 1.000e+00,\n",
       "        1.000e+00, 3.000e+00, 2.000e+00, 3.000e+00, 0.000e+00, 2.000e+00,\n",
       "        3.000e+00, 1.000e+00, 0.000e+00, 0.000e+00, 0.000e+00, 0.000e+00,\n",
       "        0.000e+00, 0.000e+00, 1.000e+00, 0.000e+00, 0.000e+00, 2.000e+00]),\n",
       " array([1.00000000e+00, 8.06377967e+05, 1.61275493e+06, 2.41913190e+06,\n",
       "        3.22550887e+06, 4.03188583e+06, 4.83826280e+06, 5.64463977e+06,\n",
       "        6.45101673e+06, 7.25739370e+06, 8.06377067e+06, 8.87014763e+06,\n",
       "        9.67652460e+06, 1.04829016e+07, 1.12892785e+07, 1.20956555e+07,\n",
       "        1.29020325e+07, 1.37084094e+07, 1.45147864e+07, 1.53211634e+07,\n",
       "        1.61275403e+07, 1.69339173e+07, 1.77402943e+07, 1.85466712e+07,\n",
       "        1.93530482e+07, 2.01594252e+07, 2.09658021e+07, 2.17721791e+07,\n",
       "        2.25785561e+07, 2.33849330e+07, 2.41913100e+07]),\n",
       " <BarContainer object of 30 artists>)"
      ]
     },
     "execution_count": 21,
     "metadata": {},
     "output_type": "execute_result"
    },
    {
     "data": {
      "text/plain": [
       "Text(0.5, 1.0, 'Histogram of total_passengers_and_non_passengers_2015')"
      ]
     },
     "execution_count": 21,
     "metadata": {},
     "output_type": "execute_result"
    },
    {
     "data": {
      "text/plain": [
       "Text(0.5, 0, 'total_passengers_and_non_passengers_2015')"
      ]
     },
     "execution_count": 21,
     "metadata": {},
     "output_type": "execute_result"
    },
    {
     "data": {
      "text/plain": [
       "Text(0, 0.5, 'Frequency')"
      ]
     },
     "execution_count": 21,
     "metadata": {},
     "output_type": "execute_result"
    },
    {
     "data": {
      "image/png": "[encoded data removed]",
      "text/plain": [
       "<Figure size 576x576 with 1 Axes>"
      ]
     },
     "metadata": {
      "needs_background": "light"
     },
     "output_type": "display_data"
    },
    {
     "data": {
      "text/plain": [
       "<Figure size 576x576 with 0 Axes>"
      ]
     },
     "execution_count": 21,
     "metadata": {},
     "output_type": "execute_result"
    },
    {
     "data": {
      "text/plain": [
       "(array([2.211e+03, 7.000e+00, 4.000e+00, 0.000e+00, 2.000e+00, 0.000e+00,\n",
       "        1.000e+00, 0.000e+00, 0.000e+00, 0.000e+00, 0.000e+00, 0.000e+00,\n",
       "        0.000e+00, 0.000e+00, 0.000e+00, 0.000e+00, 0.000e+00, 0.000e+00,\n",
       "        0.000e+00, 0.000e+00, 0.000e+00, 0.000e+00, 0.000e+00, 0.000e+00,\n",
       "        0.000e+00, 0.000e+00, 0.000e+00, 0.000e+00, 0.000e+00, 1.000e+00]),\n",
       " array([ -0.99990118,  16.28214681,  33.5641948 ,  50.84624279,\n",
       "         68.12829078,  85.41033876, 102.69238675, 119.97443474,\n",
       "        137.25648273, 154.53853072, 171.8205787 , 189.10262669,\n",
       "        206.38467468, 223.66672267, 240.94877065, 258.23081864,\n",
       "        275.51286663, 292.79491462, 310.07696261, 327.35901059,\n",
       "        344.64105858, 361.92310657, 379.20515456, 396.48720255,\n",
       "        413.76925053, 431.05129852, 448.33334651, 465.6153945 ,\n",
       "        482.89744249, 500.17949047, 517.46153846]),\n",
       " <BarContainer object of 30 artists>)"
      ]
     },
     "execution_count": 21,
     "metadata": {},
     "output_type": "execute_result"
    },
    {
     "data": {
      "text/plain": [
       "Text(0.5, 1.0, 'Histogram of passenger_growth_rate')"
      ]
     },
     "execution_count": 21,
     "metadata": {},
     "output_type": "execute_result"
    },
    {
     "data": {
      "text/plain": [
       "Text(0.5, 0, 'passenger_growth_rate')"
      ]
     },
     "execution_count": 21,
     "metadata": {},
     "output_type": "execute_result"
    },
    {
     "data": {
      "text/plain": [
       "Text(0, 0.5, 'Frequency')"
      ]
     },
     "execution_count": 21,
     "metadata": {},
     "output_type": "execute_result"
    },
    {
     "data": {
      "image/png": "[encoded data removed]",
      "text/plain": [
       "<Figure size 576x576 with 1 Axes>"
      ]
     },
     "metadata": {
      "needs_background": "light"
     },
     "output_type": "display_data"
    },
    {
     "data": {
      "text/plain": [
       "<Figure size 576x576 with 0 Axes>"
      ]
     },
     "execution_count": 21,
     "metadata": {},
     "output_type": "execute_result"
    },
    {
     "data": {
      "text/plain": [
       "(array([958., 627., 174.,  77.,  28., 268.,  13.,  22.,   3.,   6.,   1.,\n",
       "         10.,   4.,   1.,   3.,   0.,   0.,   0.,   1.,   6.,   0.,   0.,\n",
       "          0.,   2.,   1.,   2.,   0.,   0.,  17.,   2.]),\n",
       " array([0.        , 0.00023833, 0.00047666, 0.00071499, 0.00095332,\n",
       "        0.00119165, 0.00142998, 0.00166831, 0.00190664, 0.00214497,\n",
       "        0.00238331, 0.00262164, 0.00285997, 0.0030983 , 0.00333663,\n",
       "        0.00357496, 0.00381329, 0.00405162, 0.00428995, 0.00452828,\n",
       "        0.00476661, 0.00500494, 0.00524327, 0.0054816 , 0.00571993,\n",
       "        0.00595826, 0.00619659, 0.00643492, 0.00667325, 0.00691159,\n",
       "        0.00714992]),\n",
       " <BarContainer object of 30 artists>)"
      ]
     },
     "execution_count": 21,
     "metadata": {},
     "output_type": "execute_result"
    },
    {
     "data": {
      "text/plain": [
       "Text(0.5, 1.0, 'Histogram of attraction_density')"
      ]
     },
     "execution_count": 21,
     "metadata": {},
     "output_type": "execute_result"
    },
    {
     "data": {
      "text/plain": [
       "Text(0.5, 0, 'attraction_density')"
      ]
     },
     "execution_count": 21,
     "metadata": {},
     "output_type": "execute_result"
    },
    {
     "data": {
      "text/plain": [
       "Text(0, 0.5, 'Frequency')"
      ]
     },
     "execution_count": 21,
     "metadata": {},
     "output_type": "execute_result"
    },
    {
     "data": {
      "image/png": "[encoded data removed]",
      "text/plain": [
       "<Figure size 576x576 with 1 Axes>"
      ]
     },
     "metadata": {
      "needs_background": "light"
     },
     "output_type": "display_data"
    }
   ],
   "source": [
    "# List of continuous numerical columns\n",
    "continuous_columns = [\n",
    "    'total_passengers_2022',\n",
    "    'total_passengers_and_non_passengers_2022',\n",
    "    'total_passengers_2015',\n",
    "    'total_passengers_and_non_passengers_2015',\n",
    "    'passenger_growth_rate',\n",
    "    'attraction_density'\n",
    "]\n",
    "\n",
    "# Plot histograms for continuous variables\n",
    "for col in continuous_columns:\n",
    "    plt.figure(figsize=(8, 8))\n",
    "    plt.hist(dataRead_new[col].dropna(), bins=30, edgecolor='k', alpha=0.7, color='green')\n",
    "    plt.title(f'Histogram of {col}')\n",
    "    plt.xlabel(col)\n",
    "    plt.ylabel('Frequency')\n",
    "    plt.grid(True)\n",
    "    plt.show()"
   ]
  },
  {
   "cell_type": "code",
   "execution_count": 22,
   "metadata": {},
   "outputs": [
    {
     "data": {
      "text/plain": [
       "<Figure size 576x576 with 0 Axes>"
      ]
     },
     "execution_count": 22,
     "metadata": {},
     "output_type": "execute_result"
    },
    {
     "data": {
      "text/plain": [
       "<AxesSubplot:>"
      ]
     },
     "execution_count": 22,
     "metadata": {},
     "output_type": "execute_result"
    },
    {
     "data": {
      "text/plain": [
       "Text(0.5, 1.0, 'Box plot of total_passengers_2022')"
      ]
     },
     "execution_count": 22,
     "metadata": {},
     "output_type": "execute_result"
    },
    {
     "data": {
      "text/plain": [
       "Text(0, 0.5, 'total_passengers_2022')"
      ]
     },
     "execution_count": 22,
     "metadata": {},
     "output_type": "execute_result"
    },
    {
     "data": {
      "image/png": "[encoded data removed]",
      "text/plain": [
       "<Figure size 576x576 with 1 Axes>"
      ]
     },
     "metadata": {
      "needs_background": "light"
     },
     "output_type": "display_data"
    },
    {
     "data": {
      "text/plain": [
       "<Figure size 576x576 with 0 Axes>"
      ]
     },
     "execution_count": 22,
     "metadata": {},
     "output_type": "execute_result"
    },
    {
     "data": {
      "text/plain": [
       "<AxesSubplot:>"
      ]
     },
     "execution_count": 22,
     "metadata": {},
     "output_type": "execute_result"
    },
    {
     "data": {
      "text/plain": [
       "Text(0.5, 1.0, 'Box plot of total_passengers_and_non_passengers_2022')"
      ]
     },
     "execution_count": 22,
     "metadata": {},
     "output_type": "execute_result"
    },
    {
     "data": {
      "text/plain": [
       "Text(0, 0.5, 'total_passengers_and_non_passengers_2022')"
      ]
     },
     "execution_count": 22,
     "metadata": {},
     "output_type": "execute_result"
    },
    {
     "data": {
      "image/png": "[encoded data removed]",
      "text/plain": [
       "<Figure size 576x576 with 1 Axes>"
      ]
     },
     "metadata": {
      "needs_background": "light"
     },
     "output_type": "display_data"
    },
    {
     "data": {
      "text/plain": [
       "<Figure size 576x576 with 0 Axes>"
      ]
     },
     "execution_count": 22,
     "metadata": {},
     "output_type": "execute_result"
    },
    {
     "data": {
      "text/plain": [
       "<AxesSubplot:>"
      ]
     },
     "execution_count": 22,
     "metadata": {},
     "output_type": "execute_result"
    },
    {
     "data": {
      "text/plain": [
       "Text(0.5, 1.0, 'Box plot of total_passengers_2015')"
      ]
     },
     "execution_count": 22,
     "metadata": {},
     "output_type": "execute_result"
    },
    {
     "data": {
      "text/plain": [
       "Text(0, 0.5, 'total_passengers_2015')"
      ]
     },
     "execution_count": 22,
     "metadata": {},
     "output_type": "execute_result"
    },
    {
     "data": {
      "image/png": "[encoded data removed]",
      "text/plain": [
       "<Figure size 576x576 with 1 Axes>"
      ]
     },
     "metadata": {
      "needs_background": "light"
     },
     "output_type": "display_data"
    },
    {
     "data": {
      "text/plain": [
       "<Figure size 576x576 with 0 Axes>"
      ]
     },
     "execution_count": 22,
     "metadata": {},
     "output_type": "execute_result"
    },
    {
     "data": {
      "text/plain": [
       "<AxesSubplot:>"
      ]
     },
     "execution_count": 22,
     "metadata": {},
     "output_type": "execute_result"
    },
    {
     "data": {
      "text/plain": [
       "Text(0.5, 1.0, 'Box plot of total_passengers_and_non_passengers_2015')"
      ]
     },
     "execution_count": 22,
     "metadata": {},
     "output_type": "execute_result"
    },
    {
     "data": {
      "text/plain": [
       "Text(0, 0.5, 'total_passengers_and_non_passengers_2015')"
      ]
     },
     "execution_count": 22,
     "metadata": {},
     "output_type": "execute_result"
    },
    {
     "data": {
      "image/png": "[encoded data removed]",
      "text/plain": [
       "<Figure size 576x576 with 1 Axes>"
      ]
     },
     "metadata": {
      "needs_background": "light"
     },
     "output_type": "display_data"
    },
    {
     "data": {
      "text/plain": [
       "<Figure size 576x576 with 0 Axes>"
      ]
     },
     "execution_count": 22,
     "metadata": {},
     "output_type": "execute_result"
    },
    {
     "data": {
      "text/plain": [
       "<AxesSubplot:>"
      ]
     },
     "execution_count": 22,
     "metadata": {},
     "output_type": "execute_result"
    },
    {
     "data": {
      "text/plain": [
       "Text(0.5, 1.0, 'Box plot of passenger_growth_rate')"
      ]
     },
     "execution_count": 22,
     "metadata": {},
     "output_type": "execute_result"
    },
    {
     "data": {
      "text/plain": [
       "Text(0, 0.5, 'passenger_growth_rate')"
      ]
     },
     "execution_count": 22,
     "metadata": {},
     "output_type": "execute_result"
    },
    {
     "data": {
      "image/png": "[encoded data removed]",
      "text/plain": [
       "<Figure size 576x576 with 1 Axes>"
      ]
     },
     "metadata": {
      "needs_background": "light"
     },
     "output_type": "display_data"
    },
    {
     "data": {
      "text/plain": [
       "<Figure size 576x576 with 0 Axes>"
      ]
     },
     "execution_count": 22,
     "metadata": {},
     "output_type": "execute_result"
    },
    {
     "data": {
      "text/plain": [
       "<AxesSubplot:>"
      ]
     },
     "execution_count": 22,
     "metadata": {},
     "output_type": "execute_result"
    },
    {
     "data": {
      "text/plain": [
       "Text(0.5, 1.0, 'Box plot of attraction_density')"
      ]
     },
     "execution_count": 22,
     "metadata": {},
     "output_type": "execute_result"
    },
    {
     "data": {
      "text/plain": [
       "Text(0, 0.5, 'attraction_density')"
      ]
     },
     "execution_count": 22,
     "metadata": {},
     "output_type": "execute_result"
    },
    {
     "data": {
      "image/png": "[encoded data removed]",
      "text/plain": [
       "<Figure size 576x576 with 1 Axes>"
      ]
     },
     "metadata": {
      "needs_background": "light"
     },
     "output_type": "display_data"
    }
   ],
   "source": [
    "# Plot boxplots for continuous variables\n",
    "for col in continuous_columns:\n",
    "    plt.figure(figsize=(8, 8))\n",
    "    dataRead_new.boxplot(column=[col])\n",
    "    plt.title(f'Box plot of {col}')\n",
    "    plt.ylabel(col)\n",
    "    plt.grid(True)\n",
    "    plt.show()"
   ]
  },
  {
   "cell_type": "code",
   "execution_count": 23,
   "metadata": {},
   "outputs": [
    {
     "name": "stderr",
     "output_type": "stream",
     "text": [
      "/var/folders/5b/gzk9szr970x7v48n0ztwq1zc0000gn/T/ipykernel_7810/171482083.py:1: FutureWarning: use_inf_as_na option is deprecated and will be removed in a future version. Convert inf values to NaN before operating instead.\n",
      "  pd.options.mode.use_inf_as_na = True\n"
     ]
    },
    {
     "data": {
      "text/plain": [
       "<Figure size 576x576 with 0 Axes>"
      ]
     },
     "execution_count": 23,
     "metadata": {},
     "output_type": "execute_result"
    },
    {
     "data": {
      "text/plain": [
       "<AxesSubplot:>"
      ]
     },
     "execution_count": 23,
     "metadata": {},
     "output_type": "execute_result"
    },
    {
     "data": {
      "text/plain": [
       "Text(0.5, 1.0, 'Log-Transformed Histogram of total_passengers_2022')"
      ]
     },
     "execution_count": 23,
     "metadata": {},
     "output_type": "execute_result"
    },
    {
     "data": {
      "text/plain": [
       "Text(0.5, 0, 'log1p(total_passengers_2022)')"
      ]
     },
     "execution_count": 23,
     "metadata": {},
     "output_type": "execute_result"
    },
    {
     "data": {
      "text/plain": [
       "Text(0, 0.5, 'Frequency')"
      ]
     },
     "execution_count": 23,
     "metadata": {},
     "output_type": "execute_result"
    },
    {
     "data": {
      "image/png": "[encoded data removed]",
      "text/plain": [
       "<Figure size 576x576 with 1 Axes>"
      ]
     },
     "metadata": {
      "needs_background": "light"
     },
     "output_type": "display_data"
    },
    {
     "data": {
      "text/plain": [
       "<Figure size 576x576 with 0 Axes>"
      ]
     },
     "execution_count": 23,
     "metadata": {},
     "output_type": "execute_result"
    },
    {
     "data": {
      "text/plain": [
       "<AxesSubplot:>"
      ]
     },
     "execution_count": 23,
     "metadata": {},
     "output_type": "execute_result"
    },
    {
     "data": {
      "text/plain": [
       "Text(0.5, 1.0, 'Log-Transformed Histogram of total_passengers_and_non_passengers_2022')"
      ]
     },
     "execution_count": 23,
     "metadata": {},
     "output_type": "execute_result"
    },
    {
     "data": {
      "text/plain": [
       "Text(0.5, 0, 'log1p(total_passengers_and_non_passengers_2022)')"
      ]
     },
     "execution_count": 23,
     "metadata": {},
     "output_type": "execute_result"
    },
    {
     "data": {
      "text/plain": [
       "Text(0, 0.5, 'Frequency')"
      ]
     },
     "execution_count": 23,
     "metadata": {},
     "output_type": "execute_result"
    },
    {
     "data": {
      "image/png": "[encoded data removed]",
      "text/plain": [
       "<Figure size 576x576 with 1 Axes>"
      ]
     },
     "metadata": {
      "needs_background": "light"
     },
     "output_type": "display_data"
    }
   ],
   "source": [
    "pd.options.mode.use_inf_as_na = True\n",
    "\n",
    "# Apply log transformation and plot histograms\n",
    "log_transformed_columns = ['total_passengers_2022', 'total_passengers_and_non_passengers_2022']\n",
    "\n",
    "for col in log_transformed_columns:\n",
    "    plt.figure(figsize=(8, 8))\n",
    "    dataRead_new[col].apply(np.log1p).hist(bins=30, edgecolor='k', alpha=0.7, color='red')\n",
    "    plt.title(f'Log-Transformed Histogram of {col}')\n",
    "    plt.xlabel(f'log1p({col})')\n",
    "    plt.ylabel('Frequency')\n",
    "    plt.grid(True)\n",
    "    plt.show()"
   ]
  },
  {
   "cell_type": "code",
   "execution_count": 24,
   "metadata": {},
   "outputs": [
    {
     "data": {
      "text/plain": [
       "<Figure size 576x576 with 0 Axes>"
      ]
     },
     "execution_count": 24,
     "metadata": {},
     "output_type": "execute_result"
    },
    {
     "data": {
      "text/plain": [
       "<AxesSubplot:xlabel='drg_segment'>"
      ]
     },
     "execution_count": 24,
     "metadata": {},
     "output_type": "execute_result"
    },
    {
     "data": {
      "text/plain": [
       "Text(0.5, 1.0, 'Bar chart of drg_segment')"
      ]
     },
     "execution_count": 24,
     "metadata": {},
     "output_type": "execute_result"
    },
    {
     "data": {
      "text/plain": [
       "Text(0.5, 0, 'drg_segment')"
      ]
     },
     "execution_count": 24,
     "metadata": {},
     "output_type": "execute_result"
    },
    {
     "data": {
      "text/plain": [
       "Text(0, 0.5, 'Frequency')"
      ]
     },
     "execution_count": 24,
     "metadata": {},
     "output_type": "execute_result"
    },
    {
     "data": {
      "image/png": "[encoded data removed]",
      "text/plain": [
       "<Figure size 576x576 with 1 Axes>"
      ]
     },
     "metadata": {
      "needs_background": "light"
     },
     "output_type": "display_data"
    },
    {
     "data": {
      "text/plain": [
       "<Figure size 576x576 with 0 Axes>"
      ]
     },
     "execution_count": 24,
     "metadata": {},
     "output_type": "execute_result"
    },
    {
     "data": {
      "text/plain": [
       "<AxesSubplot:xlabel='city_label'>"
      ]
     },
     "execution_count": 24,
     "metadata": {},
     "output_type": "execute_result"
    },
    {
     "data": {
      "text/plain": [
       "Text(0.5, 1.0, 'Bar chart of city_label')"
      ]
     },
     "execution_count": 24,
     "metadata": {},
     "output_type": "execute_result"
    },
    {
     "data": {
      "text/plain": [
       "Text(0.5, 0, 'city_label')"
      ]
     },
     "execution_count": 24,
     "metadata": {},
     "output_type": "execute_result"
    },
    {
     "data": {
      "text/plain": [
       "Text(0, 0.5, 'Frequency')"
      ]
     },
     "execution_count": 24,
     "metadata": {},
     "output_type": "execute_result"
    },
    {
     "data": {
      "image/png": "[encoded data removed]",
      "text/plain": [
       "<Figure size 576x576 with 1 Axes>"
      ]
     },
     "metadata": {
      "needs_background": "light"
     },
     "output_type": "display_data"
    },
    {
     "data": {
      "text/plain": [
       "<Figure size 576x576 with 0 Axes>"
      ]
     },
     "execution_count": 24,
     "metadata": {},
     "output_type": "execute_result"
    },
    {
     "data": {
      "text/plain": [
       "<AxesSubplot:xlabel='city_attraction_area'>"
      ]
     },
     "execution_count": 24,
     "metadata": {},
     "output_type": "execute_result"
    },
    {
     "data": {
      "text/plain": [
       "Text(0.5, 1.0, 'Bar chart of city_attraction_area')"
      ]
     },
     "execution_count": 24,
     "metadata": {},
     "output_type": "execute_result"
    },
    {
     "data": {
      "text/plain": [
       "Text(0.5, 0, 'city_attraction_area')"
      ]
     },
     "execution_count": 24,
     "metadata": {},
     "output_type": "execute_result"
    },
    {
     "data": {
      "text/plain": [
       "Text(0, 0.5, 'Frequency')"
      ]
     },
     "execution_count": 24,
     "metadata": {},
     "output_type": "execute_result"
    },
    {
     "data": {
      "image/png": "[encoded data removed]",
      "text/plain": [
       "<Figure size 576x576 with 1 Axes>"
      ]
     },
     "metadata": {
      "needs_background": "light"
     },
     "output_type": "display_data"
    },
    {
     "data": {
      "text/plain": [
       "<Figure size 576x576 with 0 Axes>"
      ]
     },
     "execution_count": 24,
     "metadata": {},
     "output_type": "execute_result"
    },
    {
     "data": {
      "text/plain": [
       "<AxesSubplot:xlabel='city_size_category'>"
      ]
     },
     "execution_count": 24,
     "metadata": {},
     "output_type": "execute_result"
    },
    {
     "data": {
      "text/plain": [
       "Text(0.5, 1.0, 'Bar chart of city_size_category')"
      ]
     },
     "execution_count": 24,
     "metadata": {},
     "output_type": "execute_result"
    },
    {
     "data": {
      "text/plain": [
       "Text(0.5, 0, 'city_size_category')"
      ]
     },
     "execution_count": 24,
     "metadata": {},
     "output_type": "execute_result"
    },
    {
     "data": {
      "text/plain": [
       "Text(0, 0.5, 'Frequency')"
      ]
     },
     "execution_count": 24,
     "metadata": {},
     "output_type": "execute_result"
    },
    {
     "data": {
      "image/png": "[encoded data removed]",
      "text/plain": [
       "<Figure size 576x576 with 1 Axes>"
      ]
     },
     "metadata": {
      "needs_background": "light"
     },
     "output_type": "display_data"
    },
    {
     "data": {
      "text/plain": [
       "<Figure size 576x576 with 0 Axes>"
      ]
     },
     "execution_count": 24,
     "metadata": {},
     "output_type": "execute_result"
    },
    {
     "data": {
      "text/plain": [
       "<AxesSubplot:xlabel='Dubious'>"
      ]
     },
     "execution_count": 24,
     "metadata": {},
     "output_type": "execute_result"
    },
    {
     "data": {
      "text/plain": [
       "Text(0.5, 1.0, 'Bar chart of Dubious')"
      ]
     },
     "execution_count": 24,
     "metadata": {},
     "output_type": "execute_result"
    },
    {
     "data": {
      "text/plain": [
       "Text(0.5, 0, 'Dubious')"
      ]
     },
     "execution_count": 24,
     "metadata": {},
     "output_type": "execute_result"
    },
    {
     "data": {
      "text/plain": [
       "Text(0, 0.5, 'Frequency')"
      ]
     },
     "execution_count": 24,
     "metadata": {},
     "output_type": "execute_result"
    },
    {
     "data": {
      "image/png": "[encoded data removed]",
      "text/plain": [
       "<Figure size 576x576 with 1 Axes>"
      ]
     },
     "metadata": {
      "needs_background": "light"
     },
     "output_type": "display_data"
    }
   ],
   "source": [
    "# List of categorical columns\n",
    "categorical_columns = [\n",
    "    'drg_segment',\n",
    "    'city_label',\n",
    "    'city_attraction_area',\n",
    "    'city_size_category',\n",
    "    'Dubious'\n",
    "]\n",
    "\n",
    "# Plot bar charts for categorical variables\n",
    "for col in categorical_columns:\n",
    "    plt.figure(figsize=(8, 8))\n",
    "    dataRead_new[col].value_counts().plot(kind='bar', edgecolor='k', alpha=0.7, color='blue')\n",
    "    plt.title(f'Bar chart of {col}')\n",
    "    plt.xlabel(col)\n",
    "    plt.ylabel('Frequency')\n",
    "    plt.grid(True)\n",
    "    plt.show()"
   ]
  },
  {
   "cell_type": "code",
   "execution_count": 25,
   "metadata": {},
   "outputs": [
    {
     "data": {
      "text/plain": [
       "<AxesSubplot:xlabel='population_category'>"
      ]
     },
     "execution_count": 25,
     "metadata": {},
     "output_type": "execute_result"
    },
    {
     "data": {
      "text/plain": [
       "Text(0.5, 1.0, 'Bar chart of population categories')"
      ]
     },
     "execution_count": 25,
     "metadata": {},
     "output_type": "execute_result"
    },
    {
     "data": {
      "text/plain": [
       "Text(0.5, 0, 'Population Category')"
      ]
     },
     "execution_count": 25,
     "metadata": {},
     "output_type": "execute_result"
    },
    {
     "data": {
      "text/plain": [
       "Text(0, 0.5, 'Frequency')"
      ]
     },
     "execution_count": 25,
     "metadata": {},
     "output_type": "execute_result"
    },
    {
     "data": {
      "image/png": "[encoded data removed]",
      "text/plain": [
       "<Figure size 576x576 with 1 Axes>"
      ]
     },
     "metadata": {
      "needs_background": "light"
     },
     "output_type": "display_data"
    },
    {
     "data": {
      "text/plain": [
       "<AxesSubplot:xlabel='high_population'>"
      ]
     },
     "execution_count": 25,
     "metadata": {},
     "output_type": "execute_result"
    },
    {
     "data": {
      "text/plain": [
       "Text(0.5, 1.0, 'Population Category by City Size')"
      ]
     },
     "execution_count": 25,
     "metadata": {},
     "output_type": "execute_result"
    },
    {
     "data": {
      "text/plain": [
       "Text(0.5, 0, 'High Population')"
      ]
     },
     "execution_count": 25,
     "metadata": {},
     "output_type": "execute_result"
    },
    {
     "data": {
      "text/plain": [
       "Text(0, 0.5, 'Frequency')"
      ]
     },
     "execution_count": 25,
     "metadata": {},
     "output_type": "execute_result"
    },
    {
     "data": {
      "image/png": "[encoded data removed]",
      "text/plain": [
       "<Figure size 576x576 with 1 Axes>"
      ]
     },
     "metadata": {
      "needs_background": "light"
     },
     "output_type": "display_data"
    }
   ],
   "source": [
    "# Define bins for population categories\n",
    "population_bins = pd.interval_range(start=0, end=1500000, freq=300000)\n",
    "dataRead_new['population_category'] = pd.cut(dataRead_new['sum_municipal_population_2021'], bins=population_bins)\n",
    "\n",
    "# Plot bar chart for the new categorical variable\n",
    "dataRead_new['population_category'].value_counts().sort_index().plot.bar(figsize=(8, 8))\n",
    "plt.title('Bar chart of population categories')\n",
    "plt.xlabel('Population Category')\n",
    "plt.ylabel('Frequency')\n",
    "plt.grid(True)\n",
    "plt.show()\n",
    "\n",
    "# Creating another categorical variable based on a threshold\n",
    "dataRead_new['high_population'] = dataRead_new['sum_municipal_population_2021'].apply(lambda x: 'High' if x >= 300000 else 'Low')\n",
    "\n",
    "# Crosstabulation and bar chart\n",
    "population_crosstab = pd.crosstab(dataRead_new['high_population'], dataRead_new['city_size_category'])\n",
    "population_crosstab.plot.bar(stacked=True, figsize=(8, 8), color=['green', 'red', 'blue'])\n",
    "plt.title('Population Category by City Size')\n",
    "plt.xlabel('High Population')\n",
    "plt.ylabel('Frequency')\n",
    "plt.grid(True)\n",
    "plt.show()"
   ]
  },
  {
   "cell_type": "markdown",
   "metadata": {},
   "source": [
    "## SECTION:9 NORMALIZATION\n",
    "\n",
    "If you try to train a model with varaibles of ranges too far away it will be a disaster most of the times. Becasue the model might only \"see\" the bigger variable.\n",
    "\n",
    "To avoid this issue you usualy normalize or standarize your data. This way you force all your variables to have the same range.\n",
    "There are models that are very sensitive to this and might even fail to converge if you don't normalize your data.\n",
    "\n",
    "The most comon transformations for normalizing the data are:\n",
    "* Standarization: $\\frac{X - \\mu}{\\sigma}$ will trasnform your data so it has mean 0 and std 1.\n",
    "* Min-max scaling: $\\frac{X - X_{min}}{X_{max} - X_{min}}$ will send your data to the range [0,1]\n",
    "* Boxcox transformation: $\\frac{X^\\lambda - 1}{ \\lambda}$ if $\\lambda \\neq 0$ or $ln(X)$ if $\\lambda = 0$ transforms the data to try to fit a normal distribution."
   ]
  },
  {
   "cell_type": "code",
   "execution_count": 26,
   "metadata": {},
   "outputs": [
    {
     "data": {
      "text/html": [
       "<div>\n",
       "<style scoped>\n",
       "    .dataframe tbody tr th:only-of-type {\n",
       "        vertical-align: middle;\n",
       "    }\n",
       "\n",
       "    .dataframe tbody tr th {\n",
       "        vertical-align: top;\n",
       "    }\n",
       "\n",
       "    .dataframe thead th {\n",
       "        text-align: right;\n",
       "    }\n",
       "</style>\n",
       "<table border=\"1\" class=\"dataframe\">\n",
       "  <thead>\n",
       "    <tr style=\"text-align: right;\">\n",
       "      <th></th>\n",
       "      <th>total_passengers_2022</th>\n",
       "      <th>total_passengers_and_non_passengers_2022</th>\n",
       "    </tr>\n",
       "  </thead>\n",
       "  <tbody>\n",
       "    <tr>\n",
       "      <th>count</th>\n",
       "      <td>2.226e+03</td>\n",
       "      <td>2.226e+03</td>\n",
       "    </tr>\n",
       "    <tr>\n",
       "      <th>mean</th>\n",
       "      <td>3.931e+05</td>\n",
       "      <td>4.623e+05</td>\n",
       "    </tr>\n",
       "    <tr>\n",
       "      <th>std</th>\n",
       "      <td>1.445e+06</td>\n",
       "      <td>1.744e+06</td>\n",
       "    </tr>\n",
       "    <tr>\n",
       "      <th>min</th>\n",
       "      <td>1.000e+00</td>\n",
       "      <td>1.000e+00</td>\n",
       "    </tr>\n",
       "    <tr>\n",
       "      <th>25%</th>\n",
       "      <td>1.159e+04</td>\n",
       "      <td>1.159e+04</td>\n",
       "    </tr>\n",
       "    <tr>\n",
       "      <th>50%</th>\n",
       "      <td>5.125e+04</td>\n",
       "      <td>5.175e+04</td>\n",
       "    </tr>\n",
       "    <tr>\n",
       "      <th>75%</th>\n",
       "      <td>1.947e+05</td>\n",
       "      <td>2.395e+05</td>\n",
       "    </tr>\n",
       "    <tr>\n",
       "      <th>max</th>\n",
       "      <td>2.199e+07</td>\n",
       "      <td>2.784e+07</td>\n",
       "    </tr>\n",
       "  </tbody>\n",
       "</table>\n",
       "</div>"
      ],
      "text/plain": [
       "       total_passengers_2022  total_passengers_and_non_passengers_2022\n",
       "count              2.226e+03                                 2.226e+03\n",
       "mean               3.931e+05                                 4.623e+05\n",
       "std                1.445e+06                                 1.744e+06\n",
       "min                1.000e+00                                 1.000e+00\n",
       "25%                1.159e+04                                 1.159e+04\n",
       "50%                5.125e+04                                 5.175e+04\n",
       "75%                1.947e+05                                 2.395e+05\n",
       "max                2.199e+07                                 2.784e+07"
      ]
     },
     "execution_count": 26,
     "metadata": {},
     "output_type": "execute_result"
    }
   ],
   "source": [
    "# Convert infinite values to NaN\n",
    "dataRead_new.replace([np.inf, -np.inf], np.nan, inplace=True)\n",
    "\n",
    "# Summary statistics before normalization\n",
    "dataRead_new[['total_passengers_2022', 'total_passengers_and_non_passengers_2022']].describe()"
   ]
  },
  {
   "cell_type": "code",
   "execution_count": 27,
   "metadata": {},
   "outputs": [],
   "source": [
    "# Min-max scaling\n",
    "min_max_scaler = preprocessing.MinMaxScaler()\n",
    "dataRead_new[['total_passengers_2022_min_max', 'total_passengers_and_non_passengers_2022_min_max']] = min_max_scaler.fit_transform(dataRead_new[['total_passengers_2022', 'total_passengers_and_non_passengers_2022']])"
   ]
  },
  {
   "cell_type": "code",
   "execution_count": 28,
   "metadata": {},
   "outputs": [],
   "source": [
    "# Standardization\n",
    "std_scaler = preprocessing.StandardScaler()\n",
    "dataRead_new[['total_passengers_2022_std', 'total_passengers_and_non_passengers_2022_std']] = std_scaler.fit_transform(dataRead_new[['total_passengers_2022', 'total_passengers_and_non_passengers_2022']])"
   ]
  },
  {
   "cell_type": "code",
   "execution_count": 29,
   "metadata": {},
   "outputs": [],
   "source": [
    "# Boxcox transformation\n",
    "# Adding a small constant to avoid log of zero\n",
    "dataRead_new['total_passengers_2022_bx'], _ = boxcox(dataRead_new['total_passengers_2022'] + 1)\n",
    "dataRead_new['total_passengers_and_non_passengers_2022_bx'], _ = boxcox(dataRead_new['total_passengers_and_non_passengers_2022'] + 1)"
   ]
  },
  {
   "cell_type": "code",
   "execution_count": 30,
   "metadata": {},
   "outputs": [
    {
     "data": {
      "text/html": [
       "<div>\n",
       "<style scoped>\n",
       "    .dataframe tbody tr th:only-of-type {\n",
       "        vertical-align: middle;\n",
       "    }\n",
       "\n",
       "    .dataframe tbody tr th {\n",
       "        vertical-align: top;\n",
       "    }\n",
       "\n",
       "    .dataframe thead th {\n",
       "        text-align: right;\n",
       "    }\n",
       "</style>\n",
       "<table border=\"1\" class=\"dataframe\">\n",
       "  <thead>\n",
       "    <tr style=\"text-align: right;\">\n",
       "      <th></th>\n",
       "      <th>total_passengers_2022_min_max</th>\n",
       "      <th>total_passengers_and_non_passengers_2022_min_max</th>\n",
       "      <th>total_passengers_2022_std</th>\n",
       "      <th>total_passengers_and_non_passengers_2022_std</th>\n",
       "      <th>total_passengers_2022_bx</th>\n",
       "      <th>total_passengers_and_non_passengers_2022_bx</th>\n",
       "    </tr>\n",
       "  </thead>\n",
       "  <tbody>\n",
       "    <tr>\n",
       "      <th>count</th>\n",
       "      <td>2.226e+03</td>\n",
       "      <td>2.226e+03</td>\n",
       "      <td>2.226e+03</td>\n",
       "      <td>2.226e+03</td>\n",
       "      <td>2226.000</td>\n",
       "      <td>2226.000</td>\n",
       "    </tr>\n",
       "    <tr>\n",
       "      <th>mean</th>\n",
       "      <td>1.787e-02</td>\n",
       "      <td>1.661e-02</td>\n",
       "      <td>1.596e-17</td>\n",
       "      <td>-3.192e-18</td>\n",
       "      <td>15.017</td>\n",
       "      <td>14.635</td>\n",
       "    </tr>\n",
       "    <tr>\n",
       "      <th>std</th>\n",
       "      <td>6.569e-02</td>\n",
       "      <td>6.263e-02</td>\n",
       "      <td>1.000e+00</td>\n",
       "      <td>1.000e+00</td>\n",
       "      <td>4.215</td>\n",
       "      <td>4.103</td>\n",
       "    </tr>\n",
       "    <tr>\n",
       "      <th>min</th>\n",
       "      <td>0.000e+00</td>\n",
       "      <td>0.000e+00</td>\n",
       "      <td>-2.722e-01</td>\n",
       "      <td>-2.652e-01</td>\n",
       "      <td>0.707</td>\n",
       "      <td>0.706</td>\n",
       "    </tr>\n",
       "    <tr>\n",
       "      <th>25%</th>\n",
       "      <td>5.268e-04</td>\n",
       "      <td>4.162e-04</td>\n",
       "      <td>-2.641e-01</td>\n",
       "      <td>-2.586e-01</td>\n",
       "      <td>12.359</td>\n",
       "      <td>12.024</td>\n",
       "    </tr>\n",
       "    <tr>\n",
       "      <th>50%</th>\n",
       "      <td>2.330e-03</td>\n",
       "      <td>1.859e-03</td>\n",
       "      <td>-2.367e-01</td>\n",
       "      <td>-2.355e-01</td>\n",
       "      <td>15.002</td>\n",
       "      <td>14.543</td>\n",
       "    </tr>\n",
       "    <tr>\n",
       "      <th>75%</th>\n",
       "      <td>8.855e-03</td>\n",
       "      <td>8.604e-03</td>\n",
       "      <td>-1.373e-01</td>\n",
       "      <td>-1.278e-01</td>\n",
       "      <td>17.574</td>\n",
       "      <td>17.332</td>\n",
       "    </tr>\n",
       "    <tr>\n",
       "      <th>max</th>\n",
       "      <td>1.000e+00</td>\n",
       "      <td>1.000e+00</td>\n",
       "      <td>1.495e+01</td>\n",
       "      <td>1.571e+01</td>\n",
       "      <td>28.425</td>\n",
       "      <td>27.532</td>\n",
       "    </tr>\n",
       "  </tbody>\n",
       "</table>\n",
       "</div>"
      ],
      "text/plain": [
       "       total_passengers_2022_min_max  \\\n",
       "count                      2.226e+03   \n",
       "mean                       1.787e-02   \n",
       "std                        6.569e-02   \n",
       "min                        0.000e+00   \n",
       "25%                        5.268e-04   \n",
       "50%                        2.330e-03   \n",
       "75%                        8.855e-03   \n",
       "max                        1.000e+00   \n",
       "\n",
       "       total_passengers_and_non_passengers_2022_min_max  \\\n",
       "count                                         2.226e+03   \n",
       "mean                                          1.661e-02   \n",
       "std                                           6.263e-02   \n",
       "min                                           0.000e+00   \n",
       "25%                                           4.162e-04   \n",
       "50%                                           1.859e-03   \n",
       "75%                                           8.604e-03   \n",
       "max                                           1.000e+00   \n",
       "\n",
       "       total_passengers_2022_std  \\\n",
       "count                  2.226e+03   \n",
       "mean                   1.596e-17   \n",
       "std                    1.000e+00   \n",
       "min                   -2.722e-01   \n",
       "25%                   -2.641e-01   \n",
       "50%                   -2.367e-01   \n",
       "75%                   -1.373e-01   \n",
       "max                    1.495e+01   \n",
       "\n",
       "       total_passengers_and_non_passengers_2022_std  total_passengers_2022_bx  \\\n",
       "count                                     2.226e+03                  2226.000   \n",
       "mean                                     -3.192e-18                    15.017   \n",
       "std                                       1.000e+00                     4.215   \n",
       "min                                      -2.652e-01                     0.707   \n",
       "25%                                      -2.586e-01                    12.359   \n",
       "50%                                      -2.355e-01                    15.002   \n",
       "75%                                      -1.278e-01                    17.574   \n",
       "max                                       1.571e+01                    28.425   \n",
       "\n",
       "       total_passengers_and_non_passengers_2022_bx  \n",
       "count                                     2226.000  \n",
       "mean                                        14.635  \n",
       "std                                          4.103  \n",
       "min                                          0.706  \n",
       "25%                                         12.024  \n",
       "50%                                         14.543  \n",
       "75%                                         17.332  \n",
       "max                                         27.532  "
      ]
     },
     "execution_count": 30,
     "metadata": {},
     "output_type": "execute_result"
    }
   ],
   "source": [
    "# Summary statistics after normalization\n",
    "dataRead_new[['total_passengers_2022_min_max', 'total_passengers_and_non_passengers_2022_min_max',\n",
    "              'total_passengers_2022_std', 'total_passengers_and_non_passengers_2022_std',\n",
    "              'total_passengers_2022_bx', 'total_passengers_and_non_passengers_2022_bx']].describe()"
   ]
  },
  {
   "cell_type": "code",
   "execution_count": 31,
   "metadata": {},
   "outputs": [
    {
     "data": {
      "text/plain": [
       "<AxesSubplot:>"
      ]
     },
     "execution_count": 31,
     "metadata": {},
     "output_type": "execute_result"
    },
    {
     "data": {
      "text/plain": [
       "Text(0.5, 1.0, 'Original total_passengers_2022')"
      ]
     },
     "execution_count": 31,
     "metadata": {},
     "output_type": "execute_result"
    },
    {
     "data": {
      "text/plain": [
       "<AxesSubplot:>"
      ]
     },
     "execution_count": 31,
     "metadata": {},
     "output_type": "execute_result"
    },
    {
     "data": {
      "text/plain": [
       "Text(0.5, 1.0, 'Original total_passengers_and_non_passengers_2022')"
      ]
     },
     "execution_count": 31,
     "metadata": {},
     "output_type": "execute_result"
    },
    {
     "data": {
      "text/plain": [
       "<AxesSubplot:>"
      ]
     },
     "execution_count": 31,
     "metadata": {},
     "output_type": "execute_result"
    },
    {
     "data": {
      "text/plain": [
       "Text(0.5, 1.0, 'Min-max scaled total_passengers_2022')"
      ]
     },
     "execution_count": 31,
     "metadata": {},
     "output_type": "execute_result"
    },
    {
     "data": {
      "text/plain": [
       "<AxesSubplot:>"
      ]
     },
     "execution_count": 31,
     "metadata": {},
     "output_type": "execute_result"
    },
    {
     "data": {
      "text/plain": [
       "Text(0.5, 1.0, 'Min-max scaled total_passengers_and_non_passengers_2022')"
      ]
     },
     "execution_count": 31,
     "metadata": {},
     "output_type": "execute_result"
    },
    {
     "data": {
      "text/plain": [
       "<AxesSubplot:>"
      ]
     },
     "execution_count": 31,
     "metadata": {},
     "output_type": "execute_result"
    },
    {
     "data": {
      "text/plain": [
       "Text(0.5, 1.0, 'Standardized total_passengers_2022')"
      ]
     },
     "execution_count": 31,
     "metadata": {},
     "output_type": "execute_result"
    },
    {
     "data": {
      "text/plain": [
       "<AxesSubplot:>"
      ]
     },
     "execution_count": 31,
     "metadata": {},
     "output_type": "execute_result"
    },
    {
     "data": {
      "text/plain": [
       "Text(0.5, 1.0, 'Standardized total_passengers_and_non_passengers_2022')"
      ]
     },
     "execution_count": 31,
     "metadata": {},
     "output_type": "execute_result"
    },
    {
     "data": {
      "text/plain": [
       "<AxesSubplot:>"
      ]
     },
     "execution_count": 31,
     "metadata": {},
     "output_type": "execute_result"
    },
    {
     "data": {
      "text/plain": [
       "Text(0.5, 1.0, 'Boxcox transformed total_passengers_2022')"
      ]
     },
     "execution_count": 31,
     "metadata": {},
     "output_type": "execute_result"
    },
    {
     "data": {
      "text/plain": [
       "<AxesSubplot:>"
      ]
     },
     "execution_count": 31,
     "metadata": {},
     "output_type": "execute_result"
    },
    {
     "data": {
      "text/plain": [
       "Text(0.5, 1.0, 'Boxcox transformed total_passengers_and_non_passengers_2022')"
      ]
     },
     "execution_count": 31,
     "metadata": {},
     "output_type": "execute_result"
    },
    {
     "data": {
      "image/png": "[encoded data removed]",
      "text/plain": [
       "<Figure size 1440x720 with 8 Axes>"
      ]
     },
     "metadata": {
      "needs_background": "light"
     },
     "output_type": "display_data"
    }
   ],
   "source": [
    "# Plot histograms for the original and transformed variables\n",
    "fig, axes = plt.subplots(2, 4, figsize=(20, 10))\n",
    "\n",
    "# Original histograms\n",
    "dataRead_new['total_passengers_2022'].hist(bins=30, ax=axes[0, 0], color='green')\n",
    "axes[0, 0].set_title('Original total_passengers_2022')\n",
    "dataRead_new['total_passengers_and_non_passengers_2022'].hist(bins=30, ax=axes[0, 1], color='green')\n",
    "axes[0, 1].set_title('Original total_passengers_and_non_passengers_2022')\n",
    "\n",
    "# Min-max scaled histograms\n",
    "dataRead_new['total_passengers_2022_min_max'].hist(bins=30, ax=axes[0, 2], color='red')\n",
    "axes[0, 2].set_title('Min-max scaled total_passengers_2022')\n",
    "dataRead_new['total_passengers_and_non_passengers_2022_min_max'].hist(bins=30, ax=axes[0, 3], color='red')\n",
    "axes[0, 3].set_title('Min-max scaled total_passengers_and_non_passengers_2022')\n",
    "\n",
    "# Standardized histograms\n",
    "dataRead_new['total_passengers_2022_std'].hist(bins=30, ax=axes[1, 0], color='blue')\n",
    "axes[1, 0].set_title('Standardized total_passengers_2022')\n",
    "dataRead_new['total_passengers_and_non_passengers_2022_std'].hist(bins=30, ax=axes[1, 1], color='blue')\n",
    "axes[1, 1].set_title('Standardized total_passengers_and_non_passengers_2022')\n",
    "\n",
    "# Boxcox transformed histograms\n",
    "dataRead_new['total_passengers_2022_bx'].hist(bins=30, ax=axes[1, 2], color='purple')\n",
    "axes[1, 2].set_title('Boxcox transformed total_passengers_2022')\n",
    "dataRead_new['total_passengers_and_non_passengers_2022_bx'].hist(bins=30, ax=axes[1, 3], color='purple')\n",
    "axes[1, 3].set_title('Boxcox transformed total_passengers_and_non_passengers_2022')\n",
    "\n",
    "plt.tight_layout()\n",
    "plt.show()"
   ]
  },
  {
   "cell_type": "code",
   "execution_count": 32,
   "metadata": {},
   "outputs": [
    {
     "data": {
      "text/plain": [
       "<AxesSubplot:title={'center':'Original total_passengers_2022'}, ylabel='Frequency'>"
      ]
     },
     "execution_count": 32,
     "metadata": {},
     "output_type": "execute_result"
    },
    {
     "data": {
      "text/plain": [
       "<AxesSubplot:title={'center':'Boxcox transformed total_passengers_2022'}, ylabel='Frequency'>"
      ]
     },
     "execution_count": 32,
     "metadata": {},
     "output_type": "execute_result"
    },
    {
     "data": {
      "image/png": "[encoded data removed]",
      "text/plain": [
       "<Figure size 864x432 with 2 Axes>"
      ]
     },
     "metadata": {
      "needs_background": "light"
     },
     "output_type": "display_data"
    }
   ],
   "source": [
    "# Extra plot for Boxcox transformation\n",
    "fig = plt.figure(figsize=(12, 6))\n",
    "ax = fig.add_subplot(1, 2, 1)\n",
    "dataRead_new['total_passengers_2022'].plot.hist(title='Original total_passengers_2022', ax=ax)\n",
    "\n",
    "# Apply Boxcox transformation\n",
    "x, _ = boxcox(dataRead_new['total_passengers_2022'] + 1)\n",
    "dataRead_new['total_passengers_2022_BC'] = x\n",
    "ax = fig.add_subplot(1, 2, 2)\n",
    "dataRead_new['total_passengers_2022_BC'].plot.hist(title='Boxcox transformed total_passengers_2022', ax=ax)\n",
    "\n",
    "plt.tight_layout()\n",
    "plt.show()"
   ]
  },
  {
   "cell_type": "markdown",
   "metadata": {},
   "source": [
    "## SECTION 10: ENDING THE PREPROCESSING\n",
    "\n",
    "  \n",
    " Shuffle the data (to avoid possible ordering biases)"
   ]
  },
  {
   "cell_type": "code",
   "execution_count": 33,
   "metadata": {},
   "outputs": [],
   "source": [
    "# Set the seed for reproducibility\n",
    "np.random.seed(144)\n",
    "\n",
    "# Shuffle the data\n",
    "dataRead_new = dataRead_new.sample(frac=1).reset_index(drop=True)"
   ]
  },
  {
   "cell_type": "code",
   "execution_count": 34,
   "metadata": {},
   "outputs": [
    {
     "data": {
      "text/html": [
       "<div>\n",
       "<style scoped>\n",
       "    .dataframe tbody tr th:only-of-type {\n",
       "        vertical-align: middle;\n",
       "    }\n",
       "\n",
       "    .dataframe tbody tr th {\n",
       "        vertical-align: top;\n",
       "    }\n",
       "\n",
       "    .dataframe thead th {\n",
       "        text-align: right;\n",
       "    }\n",
       "</style>\n",
       "<table border=\"1\" class=\"dataframe\">\n",
       "  <thead>\n",
       "    <tr style=\"text-align: right;\">\n",
       "      <th></th>\n",
       "      <th>city_name</th>\n",
       "      <th>drg_segment</th>\n",
       "      <th>total_passengers_2022</th>\n",
       "      <th>total_passengers_and_non_passengers_2022</th>\n",
       "      <th>total_passengers_2015</th>\n",
       "      <th>total_passengers_and_non_passengers_2015</th>\n",
       "      <th>wifi_service</th>\n",
       "      <th>city_label</th>\n",
       "      <th>city_attraction_area</th>\n",
       "      <th>city_category_in_attraction_area_2020</th>\n",
       "      <th>...</th>\n",
       "      <th>Dubious</th>\n",
       "      <th>population_category</th>\n",
       "      <th>high_population</th>\n",
       "      <th>total_passengers_2022_min_max</th>\n",
       "      <th>total_passengers_and_non_passengers_2022_min_max</th>\n",
       "      <th>total_passengers_2022_std</th>\n",
       "      <th>total_passengers_and_non_passengers_2022_std</th>\n",
       "      <th>total_passengers_2022_bx</th>\n",
       "      <th>total_passengers_and_non_passengers_2022_bx</th>\n",
       "      <th>total_passengers_2022_BC</th>\n",
       "    </tr>\n",
       "  </thead>\n",
       "  <tbody>\n",
       "    <tr>\n",
       "      <th>0</th>\n",
       "      <td>Serquigny</td>\n",
       "      <td>C</td>\n",
       "      <td>31539.0</td>\n",
       "      <td>31539.0</td>\n",
       "      <td>29582.0</td>\n",
       "      <td>29582.0</td>\n",
       "      <td>0</td>\n",
       "      <td>Serquigny</td>\n",
       "      <td>230</td>\n",
       "      <td>20</td>\n",
       "      <td>...</td>\n",
       "      <td>No</td>\n",
       "      <td>(0.0, 300000.0]</td>\n",
       "      <td>Low</td>\n",
       "      <td>1.434e-03</td>\n",
       "      <td>1.133e-03</td>\n",
       "      <td>-0.250</td>\n",
       "      <td>-0.247</td>\n",
       "      <td>14.114</td>\n",
       "      <td>13.688</td>\n",
       "      <td>14.114</td>\n",
       "    </tr>\n",
       "    <tr>\n",
       "      <th>1</th>\n",
       "      <td>Pont-de-l'Arche</td>\n",
       "      <td>C</td>\n",
       "      <td>8398.0</td>\n",
       "      <td>8398.0</td>\n",
       "      <td>10860.0</td>\n",
       "      <td>10860.0</td>\n",
       "      <td>0</td>\n",
       "      <td>Alizay</td>\n",
       "      <td>015</td>\n",
       "      <td>20</td>\n",
       "      <td>...</td>\n",
       "      <td>No</td>\n",
       "      <td>(600000.0, 900000.0]</td>\n",
       "      <td>High</td>\n",
       "      <td>3.818e-04</td>\n",
       "      <td>3.016e-04</td>\n",
       "      <td>-0.266</td>\n",
       "      <td>-0.260</td>\n",
       "      <td>11.816</td>\n",
       "      <td>11.507</td>\n",
       "      <td>11.816</td>\n",
       "    </tr>\n",
       "    <tr>\n",
       "      <th>2</th>\n",
       "      <td>Louverné</td>\n",
       "      <td>C</td>\n",
       "      <td>909.0</td>\n",
       "      <td>909.0</td>\n",
       "      <td>1609.0</td>\n",
       "      <td>1609.0</td>\n",
       "      <td>0</td>\n",
       "      <td>Louverné</td>\n",
       "      <td>075</td>\n",
       "      <td>20</td>\n",
       "      <td>...</td>\n",
       "      <td>No</td>\n",
       "      <td>(0.0, 300000.0]</td>\n",
       "      <td>Low</td>\n",
       "      <td>4.129e-05</td>\n",
       "      <td>3.262e-05</td>\n",
       "      <td>-0.272</td>\n",
       "      <td>-0.265</td>\n",
       "      <td>8.324</td>\n",
       "      <td>8.162</td>\n",
       "      <td>8.324</td>\n",
       "    </tr>\n",
       "    <tr>\n",
       "      <th>3</th>\n",
       "      <td>Saint-Aigulin - La Roche-Chalais</td>\n",
       "      <td>C</td>\n",
       "      <td>26956.0</td>\n",
       "      <td>26956.0</td>\n",
       "      <td>11140.0</td>\n",
       "      <td>11140.0</td>\n",
       "      <td>0</td>\n",
       "      <td>Saint-Aigulin</td>\n",
       "      <td>000</td>\n",
       "      <td>30</td>\n",
       "      <td>...</td>\n",
       "      <td>No</td>\n",
       "      <td>NaN</td>\n",
       "      <td>High</td>\n",
       "      <td>1.226e-03</td>\n",
       "      <td>9.682e-04</td>\n",
       "      <td>-0.253</td>\n",
       "      <td>-0.250</td>\n",
       "      <td>13.833</td>\n",
       "      <td>13.421</td>\n",
       "      <td>13.833</td>\n",
       "    </tr>\n",
       "    <tr>\n",
       "      <th>4</th>\n",
       "      <td>Beaumont-le-Roger</td>\n",
       "      <td>C</td>\n",
       "      <td>12724.0</td>\n",
       "      <td>12724.0</td>\n",
       "      <td>12389.0</td>\n",
       "      <td>12389.0</td>\n",
       "      <td>0</td>\n",
       "      <td>Beaumont-le-Roger</td>\n",
       "      <td>000</td>\n",
       "      <td>30</td>\n",
       "      <td>...</td>\n",
       "      <td>No</td>\n",
       "      <td>NaN</td>\n",
       "      <td>High</td>\n",
       "      <td>5.785e-04</td>\n",
       "      <td>4.570e-04</td>\n",
       "      <td>-0.263</td>\n",
       "      <td>-0.258</td>\n",
       "      <td>12.519</td>\n",
       "      <td>12.176</td>\n",
       "      <td>12.519</td>\n",
       "    </tr>\n",
       "  </tbody>\n",
       "</table>\n",
       "<p>5 rows × 35 columns</p>\n",
       "</div>"
      ],
      "text/plain": [
       "                          city_name drg_segment  total_passengers_2022  \\\n",
       "0                         Serquigny           C                31539.0   \n",
       "1                   Pont-de-l'Arche           C                 8398.0   \n",
       "2                          Louverné           C                  909.0   \n",
       "3  Saint-Aigulin - La Roche-Chalais           C                26956.0   \n",
       "4                 Beaumont-le-Roger           C                12724.0   \n",
       "\n",
       "   total_passengers_and_non_passengers_2022  total_passengers_2015  \\\n",
       "0                                   31539.0                29582.0   \n",
       "1                                    8398.0                10860.0   \n",
       "2                                     909.0                 1609.0   \n",
       "3                                   26956.0                11140.0   \n",
       "4                                   12724.0                12389.0   \n",
       "\n",
       "   total_passengers_and_non_passengers_2015  wifi_service         city_label  \\\n",
       "0                                   29582.0             0          Serquigny   \n",
       "1                                   10860.0             0             Alizay   \n",
       "2                                    1609.0             0           Louverné   \n",
       "3                                   11140.0             0      Saint-Aigulin   \n",
       "4                                   12389.0             0  Beaumont-le-Roger   \n",
       "\n",
       "  city_attraction_area  city_category_in_attraction_area_2020  ...  Dubious  \\\n",
       "0                  230                                     20  ...       No   \n",
       "1                  015                                     20  ...       No   \n",
       "2                  075                                     20  ...       No   \n",
       "3                  000                                     30  ...       No   \n",
       "4                  000                                     30  ...       No   \n",
       "\n",
       "    population_category  high_population  total_passengers_2022_min_max  \\\n",
       "0       (0.0, 300000.0]              Low                      1.434e-03   \n",
       "1  (600000.0, 900000.0]             High                      3.818e-04   \n",
       "2       (0.0, 300000.0]              Low                      4.129e-05   \n",
       "3                   NaN             High                      1.226e-03   \n",
       "4                   NaN             High                      5.785e-04   \n",
       "\n",
       "   total_passengers_and_non_passengers_2022_min_max  \\\n",
       "0                                         1.133e-03   \n",
       "1                                         3.016e-04   \n",
       "2                                         3.262e-05   \n",
       "3                                         9.682e-04   \n",
       "4                                         4.570e-04   \n",
       "\n",
       "   total_passengers_2022_std  total_passengers_and_non_passengers_2022_std  \\\n",
       "0                     -0.250                                        -0.247   \n",
       "1                     -0.266                                        -0.260   \n",
       "2                     -0.272                                        -0.265   \n",
       "3                     -0.253                                        -0.250   \n",
       "4                     -0.263                                        -0.258   \n",
       "\n",
       "   total_passengers_2022_bx  total_passengers_and_non_passengers_2022_bx  \\\n",
       "0                    14.114                                       13.688   \n",
       "1                    11.816                                       11.507   \n",
       "2                     8.324                                        8.162   \n",
       "3                    13.833                                       13.421   \n",
       "4                    12.519                                       12.176   \n",
       "\n",
       "   total_passengers_2022_BC  \n",
       "0                    14.114  \n",
       "1                    11.816  \n",
       "2                     8.324  \n",
       "3                    13.833  \n",
       "4                    12.519  \n",
       "\n",
       "[5 rows x 35 columns]"
      ]
     },
     "execution_count": 34,
     "metadata": {},
     "output_type": "execute_result"
    }
   ],
   "source": [
    "# Save the preprocessed data as a pickle file with compression\n",
    "dataRead_new.to_pickle('dataRead_processed.pkl.bz2', compression='bz2')\n",
    "\n",
    "# Load the preprocessed data to verify\n",
    "dataRead_load = pd.read_pickle('dataRead_processed.pkl.bz2', compression='bz2')\n",
    "\n",
    "# Display the first few rows of the loaded data\n",
    "dataRead_load.head()"
   ]
  }
 ],
 "metadata": {
  "kernelspec": {
   "display_name": "base",
   "language": "python",
   "name": "python3"
  },
  "language_info": {
   "codemirror_mode": {
    "name": "ipython",
    "version": 3
   },
   "file_extension": ".py",
   "mimetype": "text/x-python",
   "name": "python",
   "nbconvert_exporter": "python",
   "pygments_lexer": "ipython3",
   "version": "3.9.12"
  }
 },
 "nbformat": 4,
 "nbformat_minor": 2
}
